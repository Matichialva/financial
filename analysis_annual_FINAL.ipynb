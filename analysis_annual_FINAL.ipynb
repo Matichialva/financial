{
 "cells": [
  {
   "cell_type": "markdown",
   "metadata": {},
   "source": [
    "1. importar librerias, stock & elements\n",
    "2. extraction process\n",
    "3. armar dataframe ratios/años\n",
    "4. armar dataframe ratios/quarters"
   ]
  },
  {
   "cell_type": "markdown",
   "metadata": {},
   "source": [
    "### import and assign"
   ]
  },
  {
   "cell_type": "code",
   "execution_count": 61,
   "metadata": {},
   "outputs": [],
   "source": [
    "import pandas as pd\n",
    "from yahoofinancials import YahooFinancials\n",
    "\n",
    "%matplotlib inline"
   ]
  },
  {
   "cell_type": "code",
   "execution_count": 55,
   "metadata": {},
   "outputs": [],
   "source": [
    "stock = \"AAPL\"\n",
    "elements = [\"year\",\"totalLiab/ebitda\", \"ebitda/interest\", \"ltDebt/totalLiab\", \"currentLiab/totalLiab\", \"totalLiab/marketCap\", \"ltDebt/ebitda\", \"ebitda/totalRevenue\", \"opIncome/totalRevenue\", \"netIncome/totalRevenue\", \"payoutRatio\", \"cashOpActivities/totalAssets\", \"capEx/cashOpActivities\", \"dividendYield\"]\n",
    "years = [\"2017\", \"2018\", \"2019\", \"2020\"]"
   ]
  },
  {
   "cell_type": "markdown",
   "metadata": {},
   "source": [
    "## extraction for years"
   ]
  },
  {
   "cell_type": "markdown",
   "metadata": {},
   "source": [
    "##### extraction of statements"
   ]
  },
  {
   "cell_type": "code",
   "execution_count": 40,
   "metadata": {},
   "outputs": [],
   "source": [
    "stock1 = YahooFinancials(stock)\n",
    "cashflow = stock1.get_financial_stmts(\"annual\", \"cash\")\n",
    "income = stock1.get_financial_stmts(\"annual\", \"income\")\n",
    "balance = stock1.get_financial_stmts(\"annual\", \"balance\")\n",
    "market_cap = stock1.get_stock_price_data()"
   ]
  },
  {
   "cell_type": "markdown",
   "metadata": {},
   "source": [
    "#### statement's names to use in posterior extraction"
   ]
  },
  {
   "cell_type": "code",
   "execution_count": 41,
   "metadata": {},
   "outputs": [],
   "source": [
    "cash_statement = list(cashflow.keys())[0]\n",
    "income_statement = list(income.keys())[0]\n",
    "balance_statement = list(balance.keys())[0]"
   ]
  },
  {
   "cell_type": "markdown",
   "metadata": {},
   "source": [
    "### extraction for each of the four years"
   ]
  },
  {
   "cell_type": "markdown",
   "metadata": {},
   "source": [
    "#### extraction for year 4"
   ]
  },
  {
   "cell_type": "code",
   "execution_count": 42,
   "metadata": {
    "scrolled": true
   },
   "outputs": [
    {
     "name": "stdout",
     "output_type": "stream",
     "text": [
      "{'quoteSourceName': 'Delayed Quote', 'regularMarketOpen': 128.78, 'averageDailyVolume3Month': 108869769, 'exchange': 'NMS', 'regularMarketTime': '2021-01-15 23:00:02 UTC+0000', 'volume24Hr': None, 'regularMarketDayHigh': 130.21, 'shortName': 'Apple Inc.', 'averageDailyVolume10Day': 106561287, 'longName': 'Apple Inc.', 'regularMarketChange': -1.7700043, 'currencySymbol': '$', 'regularMarketPreviousClose': 128.91, 'postMarketTime': '2021-01-16 02:59:58 UTC+0000', 'preMarketPrice': None, 'exchangeDataDelayedBy': 0, 'toCurrency': None, 'postMarketChange': -0.15999603, 'postMarketPrice': 126.98, 'exchangeName': 'NasdaqGS', 'preMarketChange': None, 'circulatingSupply': None, 'regularMarketDayLow': 127, 'priceHint': 2, 'currency': 'USD', 'regularMarketPrice': 127.14, 'regularMarketVolume': 111598531, 'lastMarket': None, 'regularMarketSource': 'FREE_REALTIME', 'openInterest': None, 'marketState': 'CLOSED', 'underlyingSymbol': None, 'marketCap': 2138914422784, 'quoteType': 'EQUITY', 'volumeAllCurrencies': None, 'postMarketSource': 'DELAYED', 'strikePrice': None, 'symbol': 'AAPL', 'postMarketChangePercent': -0.001258424, 'preMarketSource': 'FREE_REALTIME', 'maxAge': 1, 'fromCurrency': None, 'regularMarketChangePercent': -0.013730543, 'investments': -33542000000, 'changeToLiabilities': 8373000000, 'totalCashflowsFromInvestingActivities': -46446000000, 'netBorrowings': 29014000000, 'totalCashFromFinancingActivities': -17974000000, 'changeToOperatingActivities': -8480000000, 'issuanceOfStock': 555000000, 'netIncome': 48351000000, 'changeInCash': -195000000, 'repurchaseOfStock': -34774000000, 'totalCashFromOperatingActivities': 64225000000, 'depreciation': 10157000000, 'otherCashflowsFromInvestingActivities': -124000000, 'dividendsPaid': -12769000000, 'changeToInventory': -2723000000, 'changeToAccountReceivables': -2093000000, 'otherCashflowsFromFinancingActivities': -105000000, 'changeToNetincome': 10640000000, 'capitalExpenditures': -12451000000, 'totalLiab': 241272000000, 'totalStockholderEquity': 134047000000, 'otherCurrentLiab': 38099000000, 'totalAssets': 375319000000, 'commonStock': 35867000000, 'otherCurrentAssets': 13936000000, 'retainedEarnings': 98330000000, 'otherLiab': 43251000000, 'treasuryStock': -150000000, 'otherAssets': 18177000000, 'cash': 20289000000, 'totalCurrentLiabilities': 100814000000, 'shortLongTermDebt': 6496000000, 'otherStockholderEquity': -150000000, 'propertyPlantEquipment': 33783000000, 'totalCurrentAssets': 128645000000, 'longTermInvestments': 194714000000, 'netTangibleAssets': 134047000000, 'shortTermInvestments': 53892000000, 'netReceivables': 35673000000, 'longTermDebt': 97207000000, 'inventory': 4855000000, 'accountsPayable': 44242000000, 'researchDevelopment': 11581000000, 'effectOfAccountingCharges': None, 'incomeBeforeTax': 64089000000, 'minorityInterest': None, 'sellingGeneralAdministrative': 15261000000, 'grossProfit': 88186000000, 'ebit': 61344000000, 'operatingIncome': 61344000000, 'otherOperatingExpenses': None, 'interestExpense': -2323000000, 'extraordinaryItems': None, 'nonRecurring': None, 'otherItems': None, 'incomeTaxExpense': 15738000000, 'totalRevenue': 229234000000, 'totalOperatingExpenses': 167890000000, 'costOfRevenue': 141048000000, 'totalOtherIncomeExpenseNet': 2745000000, 'discontinuedOperations': None, 'netIncomeFromContinuingOps': 48351000000, 'netIncomeApplicableToCommonShares': 48351000000, 'year': '2017-09-30'}\n"
     ]
    }
   ],
   "source": [
    "dict_m = market_cap[stock]\n",
    "\n",
    "dict_i = income[income_statement][stock][3]\n",
    "d_inc_bef = list(dict_i)[0]\n",
    "dict_inc = dict_i.get(d_inc_bef)\n",
    "\n",
    "dict_c = cashflow[cash_statement][stock][3]\n",
    "d_cash_bef = list(dict_c)[0]\n",
    "dict_cash = dict_c.get(d_cash_bef)\n",
    "    \n",
    "dict_b = balance[balance_statement][stock][3]\n",
    "d_bal_bef = list(dict_b)[0]\n",
    "dict_bal = dict_b.get(d_bal_bef)\n",
    "\n",
    "list_year = list(dict_i)\n",
    "yearr = ''.join(list_year)\n",
    "year = {\"year\": yearr}\n",
    "\n",
    "dictionary_3 = dict(dict_m)\n",
    "dictionary_3.update(dict_cash)\n",
    "dictionary_3.update(dict_bal)\n",
    "dictionary_3.update(dict_inc)\n",
    "dictionary_3.update(year)\n",
    "\n",
    "print(dictionary_3)"
   ]
  },
  {
   "cell_type": "code",
   "execution_count": 43,
   "metadata": {
    "scrolled": true
   },
   "outputs": [
    {
     "name": "stdout",
     "output_type": "stream",
     "text": [
      "{'totalLiab/ebitda': 3.3743863722185705, 'ebitda/interest': -22.03486870426173, 'ltDebt/totalLiab': 0.4028938293710004, 'currentLiab/totalLiab': 0.41784376139792434, 'totalLiab/marketCap': 0.11280114689486342, 'ltDebt/ebitda': 1.3595194472804577, 'ebitda/totalRevenue': 0.3119127180086724, 'opIncome/totalRevenue': 0.2676042820872994, 'netIncome/totalRevenue': 0.21092420845075338, 'payoutRatio': 0.264089677566131, 'cashOpActivities/totalAssets': 0.17112109965123, 'capEx/cashOpActivities': 0.19386531724406383, 'dividendYield': 0.005969850810290921, 'year': '2017-09-30', 'quoteSourceName': 'Delayed Quote', 'regularMarketOpen': 128.78, 'averageDailyVolume3Month': 108869769, 'exchange': 'NMS', 'regularMarketTime': '2021-01-15 23:00:02 UTC+0000', 'volume24Hr': None, 'regularMarketDayHigh': 130.21, 'shortName': 'Apple Inc.', 'averageDailyVolume10Day': 106561287, 'longName': 'Apple Inc.', 'regularMarketChange': -1.7700043, 'currencySymbol': '$', 'regularMarketPreviousClose': 128.91, 'postMarketTime': '2021-01-16 02:59:58 UTC+0000', 'preMarketPrice': None, 'exchangeDataDelayedBy': 0, 'toCurrency': None, 'postMarketChange': -0.15999603, 'postMarketPrice': 126.98, 'exchangeName': 'NasdaqGS', 'preMarketChange': None, 'circulatingSupply': None, 'regularMarketDayLow': 127, 'priceHint': 2, 'currency': 'USD', 'regularMarketPrice': 127.14, 'regularMarketVolume': 111598531, 'lastMarket': None, 'regularMarketSource': 'FREE_REALTIME', 'openInterest': None, 'marketState': 'CLOSED', 'underlyingSymbol': None, 'marketCap': 2138914422784, 'quoteType': 'EQUITY', 'volumeAllCurrencies': None, 'postMarketSource': 'DELAYED', 'strikePrice': None, 'symbol': 'AAPL', 'postMarketChangePercent': -0.001258424, 'preMarketSource': 'FREE_REALTIME', 'maxAge': 1, 'fromCurrency': None, 'regularMarketChangePercent': -0.013730543}\n"
     ]
    }
   ],
   "source": [
    "ratios = {\"totalLiab/ebitda\" : dictionary_3[\"totalLiab\"] / (dictionary_3[\"ebit\"] + dictionary_3[\"depreciation\"]),\n",
    "            \"ebitda/interest\" : (dictionary_3[\"ebit\"] - dictionary_3[\"depreciation\"]) / dictionary_3[\"interestExpense\"],\n",
    "            \"ltDebt/totalLiab\" : dictionary_3[\"longTermDebt\"] / dictionary_3[\"totalLiab\"],\n",
    "            \"currentLiab/totalLiab\" : dictionary_3[\"totalCurrentLiabilities\"] / dictionary_3[\"totalLiab\"],\n",
    "            \"totalLiab/marketCap\" : dictionary_3[\"totalLiab\"] / dictionary_3[\"marketCap\"],\n",
    "            \"ltDebt/ebitda\" : dictionary_3[\"longTermDebt\"] / (dictionary_3[\"ebit\"] + dictionary_3[\"depreciation\"]),\n",
    "            \"ebitda/totalRevenue\" : (dictionary_3[\"ebit\"] + dictionary_3[\"depreciation\"]) / dictionary_3[\"totalRevenue\"],\n",
    "            \"opIncome/totalRevenue\" : dictionary_3[\"operatingIncome\"] / dictionary_3[\"totalRevenue\"],\n",
    "            \"netIncome/totalRevenue\" : dictionary_3[\"netIncome\"] / dictionary_3[\"totalRevenue\"],\n",
    "            \"payoutRatio\" : - dictionary_3[\"dividendsPaid\"] / dictionary_3[\"netIncome\"],\n",
    "            \"cashOpActivities/totalAssets\" : dictionary_3[\"totalCashFromOperatingActivities\"] / dictionary_3[\"totalAssets\"],\n",
    "            \"capEx/cashOpActivities\" : - dictionary_3[\"capitalExpenditures\"] / dictionary_3[\"totalCashFromOperatingActivities\"],\n",
    "            \"dividendYield\" : - dictionary_3[\"dividendsPaid\"] / dictionary_3[\"marketCap\"],\n",
    "            \"year\": dictionary_3[\"year\"]\n",
    "#            \"RevenueDIF\" : dictionary_3[\"totalRevenue\"] / dict_inc[\"totalRevenue\"],\n",
    "#            \"ebitDIF\" : (dictionary_3[\"ebit\"] + dictionary_3[\"depreciation\"]) / (dictionary_before[\"ebit\"] + dictionary_before[\"depreciation\"]),\n",
    "#            \"netIncomeDIF\" : dictionary_3[\"netIncome\"] / dictionary_before[\"netIncome\"],\n",
    "#            \"cashFromOpActivitiesDIF\" : dictionary_3[\"totalCashFromOperatingActivities\"] / dictionary_before[\"totalCashFromOperatingActivities\"],\n",
    "#            \"dividendsPaidDIF\" : dictionary_3[\"dividendsPaid\"] / dictionary_before[\"dividendsPaid\"],\n",
    "#            \"totalLiabDIF\" : dictionary_3[\"totalLiab\"] / dictionary_before[\"totalLiab\"],\n",
    "            }\n",
    "\n",
    "df_ratios_3 = ratios\n",
    "df_ratios_3.update(dict_m)\n",
    "\n",
    "print(df_ratios_3)"
   ]
  },
  {
   "cell_type": "markdown",
   "metadata": {},
   "source": [
    "#### extraction for year 3"
   ]
  },
  {
   "cell_type": "code",
   "execution_count": 44,
   "metadata": {
    "scrolled": true
   },
   "outputs": [
    {
     "name": "stdout",
     "output_type": "stream",
     "text": [
      "{'quoteSourceName': 'Delayed Quote', 'regularMarketOpen': 128.78, 'averageDailyVolume3Month': 108869769, 'exchange': 'NMS', 'regularMarketTime': '2021-01-15 23:00:02 UTC+0000', 'volume24Hr': None, 'regularMarketDayHigh': 130.21, 'shortName': 'Apple Inc.', 'averageDailyVolume10Day': 106561287, 'longName': 'Apple Inc.', 'regularMarketChange': -1.7700043, 'currencySymbol': '$', 'regularMarketPreviousClose': 128.91, 'postMarketTime': '2021-01-16 02:59:58 UTC+0000', 'preMarketPrice': None, 'exchangeDataDelayedBy': 0, 'toCurrency': None, 'postMarketChange': -0.15999603, 'postMarketPrice': 126.98, 'exchangeName': 'NasdaqGS', 'preMarketChange': None, 'circulatingSupply': None, 'regularMarketDayLow': 127, 'priceHint': 2, 'currency': 'USD', 'regularMarketPrice': 127.14, 'regularMarketVolume': 111598531, 'lastMarket': None, 'regularMarketSource': 'FREE_REALTIME', 'openInterest': None, 'marketState': 'CLOSED', 'underlyingSymbol': None, 'marketCap': 2138914422784, 'quoteType': 'EQUITY', 'volumeAllCurrencies': None, 'postMarketSource': 'DELAYED', 'strikePrice': None, 'symbol': 'AAPL', 'postMarketChangePercent': -0.001258424, 'preMarketSource': 'FREE_REALTIME', 'maxAge': 1, 'fromCurrency': None, 'regularMarketChangePercent': -0.013730543, 'investments': 30845000000, 'changeToLiabilities': 9172000000, 'totalCashflowsFromInvestingActivities': 16066000000, 'netBorrowings': 432000000, 'totalCashFromFinancingActivities': -87876000000, 'changeToOperatingActivities': 30016000000, 'issuanceOfStock': 669000000, 'netIncome': 59531000000, 'changeInCash': 5624000000, 'repurchaseOfStock': -75265000000, 'totalCashFromOperatingActivities': 77434000000, 'depreciation': 10903000000, 'otherCashflowsFromInvestingActivities': -745000000, 'dividendsPaid': -13712000000, 'changeToInventory': 828000000, 'changeToAccountReceivables': -5322000000, 'otherCashflowsFromFinancingActivities': -105000000, 'changeToNetincome': -27694000000, 'capitalExpenditures': -13313000000, 'totalLiab': 258578000000, 'totalStockholderEquity': 107147000000, 'otherCurrentLiab': 39293000000, 'totalAssets': 365725000000, 'commonStock': 40201000000, 'otherCurrentAssets': 12087000000, 'retainedEarnings': 70400000000, 'otherLiab': 48914000000, 'treasuryStock': -3454000000, 'otherAssets': 22283000000, 'cash': 25913000000, 'totalCurrentLiabilities': 115929000000, 'shortLongTermDebt': 8784000000, 'otherStockholderEquity': -3454000000, 'propertyPlantEquipment': 41304000000, 'totalCurrentAssets': 131339000000, 'longTermInvestments': 170799000000, 'netTangibleAssets': 107147000000, 'shortTermInvestments': 40388000000, 'netReceivables': 48995000000, 'longTermDebt': 93735000000, 'inventory': 3956000000, 'accountsPayable': 55888000000, 'researchDevelopment': 14236000000, 'effectOfAccountingCharges': None, 'incomeBeforeTax': 72903000000, 'minorityInterest': None, 'sellingGeneralAdministrative': 16705000000, 'grossProfit': 101839000000, 'ebit': 70898000000, 'operatingIncome': 70898000000, 'otherOperatingExpenses': None, 'interestExpense': -3240000000, 'extraordinaryItems': None, 'nonRecurring': None, 'otherItems': None, 'incomeTaxExpense': 13372000000, 'totalRevenue': 265595000000, 'totalOperatingExpenses': 194697000000, 'costOfRevenue': 163756000000, 'totalOtherIncomeExpenseNet': 2005000000, 'discontinuedOperations': None, 'netIncomeFromContinuingOps': 59531000000, 'netIncomeApplicableToCommonShares': 59531000000, 'year': '2018-09-29'}\n"
     ]
    }
   ],
   "source": [
    "dict_m = market_cap[stock]\n",
    "\n",
    "dict_i = income[income_statement][stock][2]\n",
    "d_inc_bef = list(dict_i)[0]\n",
    "dict_inc = dict_i.get(d_inc_bef)\n",
    "\n",
    "dict_c = cashflow[cash_statement][stock][2]\n",
    "d_cash_bef = list(dict_c)[0]\n",
    "dict_cash = dict_c.get(d_cash_bef)\n",
    "    \n",
    "dict_b = balance[balance_statement][stock][2]\n",
    "d_bal_bef = list(dict_b)[0]\n",
    "dict_bal = dict_b.get(d_bal_bef)\n",
    "\n",
    "list_year = list(dict_i)\n",
    "yearr = ''.join(list_year)\n",
    "year = {\"year\": yearr}\n",
    "\n",
    "dictionary_2 = dict(dict_m)\n",
    "dictionary_2.update(dict_cash)\n",
    "dictionary_2.update(dict_bal)\n",
    "dictionary_2.update(dict_inc)\n",
    "dictionary_2.update(year)\n",
    "\n",
    "print(dictionary_2)"
   ]
  },
  {
   "cell_type": "code",
   "execution_count": 45,
   "metadata": {
    "scrolled": true
   },
   "outputs": [
    {
     "name": "stdout",
     "output_type": "stream",
     "text": [
      "{'totalLiab/ebitda': 3.1610616007139276, 'ebitda/interest': -18.516975308641975, 'ltDebt/totalLiab': 0.3625018369698892, 'currentLiab/totalLiab': 0.44833280480164595, 'totalLiab/marketCap': 0.12089216718798698, 'ltDebt/ebitda': 1.1458906370337771, 'ebitda/totalRevenue': 0.3079914908036672, 'opIncome/totalRevenue': 0.26694026619477024, 'netIncome/totalRevenue': 0.22414202074587247, 'payoutRatio': 0.23033377567989788, 'cashOpActivities/totalAssets': 0.2117273907990977, 'capEx/cashOpActivities': 0.1719270604643955, 'dividendYield': 0.006410728664007292, 'year': '2018-09-29', 'quoteSourceName': 'Delayed Quote', 'regularMarketOpen': 128.78, 'averageDailyVolume3Month': 108869769, 'exchange': 'NMS', 'regularMarketTime': '2021-01-15 23:00:02 UTC+0000', 'volume24Hr': None, 'regularMarketDayHigh': 130.21, 'shortName': 'Apple Inc.', 'averageDailyVolume10Day': 106561287, 'longName': 'Apple Inc.', 'regularMarketChange': -1.7700043, 'currencySymbol': '$', 'regularMarketPreviousClose': 128.91, 'postMarketTime': '2021-01-16 02:59:58 UTC+0000', 'preMarketPrice': None, 'exchangeDataDelayedBy': 0, 'toCurrency': None, 'postMarketChange': -0.15999603, 'postMarketPrice': 126.98, 'exchangeName': 'NasdaqGS', 'preMarketChange': None, 'circulatingSupply': None, 'regularMarketDayLow': 127, 'priceHint': 2, 'currency': 'USD', 'regularMarketPrice': 127.14, 'regularMarketVolume': 111598531, 'lastMarket': None, 'regularMarketSource': 'FREE_REALTIME', 'openInterest': None, 'marketState': 'CLOSED', 'underlyingSymbol': None, 'marketCap': 2138914422784, 'quoteType': 'EQUITY', 'volumeAllCurrencies': None, 'postMarketSource': 'DELAYED', 'strikePrice': None, 'symbol': 'AAPL', 'postMarketChangePercent': -0.001258424, 'preMarketSource': 'FREE_REALTIME', 'maxAge': 1, 'fromCurrency': None, 'regularMarketChangePercent': -0.013730543}\n"
     ]
    }
   ],
   "source": [
    "ratios = {\"totalLiab/ebitda\" : dictionary_2[\"totalLiab\"] / (dictionary_2[\"ebit\"] + dictionary_2[\"depreciation\"]),\n",
    "            \"ebitda/interest\" : (dictionary_2[\"ebit\"] - dictionary_2[\"depreciation\"]) / dictionary_2[\"interestExpense\"],\n",
    "            \"ltDebt/totalLiab\" : dictionary_2[\"longTermDebt\"] / dictionary_2[\"totalLiab\"],\n",
    "            \"currentLiab/totalLiab\" : dictionary_2[\"totalCurrentLiabilities\"] / dictionary_2[\"totalLiab\"],\n",
    "            \"totalLiab/marketCap\" : dictionary_2[\"totalLiab\"] / dictionary_2[\"marketCap\"],\n",
    "            \"ltDebt/ebitda\" : dictionary_2[\"longTermDebt\"] / (dictionary_2[\"ebit\"] + dictionary_2[\"depreciation\"]),\n",
    "            \"ebitda/totalRevenue\" : (dictionary_2[\"ebit\"] + dictionary_2[\"depreciation\"]) / dictionary_2[\"totalRevenue\"],\n",
    "            \"opIncome/totalRevenue\" : dictionary_2[\"operatingIncome\"] / dictionary_2[\"totalRevenue\"],\n",
    "            \"netIncome/totalRevenue\" : dictionary_2[\"netIncome\"] / dictionary_2[\"totalRevenue\"],\n",
    "            \"payoutRatio\" : - dictionary_2[\"dividendsPaid\"] / dictionary_2[\"netIncome\"],\n",
    "            \"cashOpActivities/totalAssets\" : dictionary_2[\"totalCashFromOperatingActivities\"] / dictionary_2[\"totalAssets\"],\n",
    "            \"capEx/cashOpActivities\" : - dictionary_2[\"capitalExpenditures\"] / dictionary_2[\"totalCashFromOperatingActivities\"],\n",
    "            \"dividendYield\" : - dictionary_2[\"dividendsPaid\"] / dictionary_2[\"marketCap\"],\n",
    "            \"year\": dictionary_2[\"year\"]\n",
    "            }\n",
    "\n",
    "df_ratios_2 = ratios\n",
    "df_ratios_2.update(dict_m)\n",
    "\n",
    "print(df_ratios_2)"
   ]
  },
  {
   "cell_type": "markdown",
   "metadata": {},
   "source": [
    "#### extraction for year 2"
   ]
  },
  {
   "cell_type": "code",
   "execution_count": 46,
   "metadata": {},
   "outputs": [
    {
     "name": "stdout",
     "output_type": "stream",
     "text": [
      "{'quoteSourceName': 'Delayed Quote', 'regularMarketOpen': 128.78, 'averageDailyVolume3Month': 108869769, 'exchange': 'NMS', 'regularMarketTime': '2021-01-15 23:00:02 UTC+0000', 'volume24Hr': None, 'regularMarketDayHigh': 130.21, 'shortName': 'Apple Inc.', 'averageDailyVolume10Day': 106561287, 'longName': 'Apple Inc.', 'regularMarketChange': -1.7700043, 'currencySymbol': '$', 'regularMarketPreviousClose': 128.91, 'postMarketTime': '2021-01-16 02:59:58 UTC+0000', 'preMarketPrice': None, 'exchangeDataDelayedBy': 0, 'toCurrency': None, 'postMarketChange': -0.15999603, 'postMarketPrice': 126.98, 'exchangeName': 'NasdaqGS', 'preMarketChange': None, 'circulatingSupply': None, 'regularMarketDayLow': 127, 'priceHint': 2, 'currency': 'USD', 'regularMarketPrice': 127.14, 'regularMarketVolume': 111598531, 'lastMarket': None, 'regularMarketSource': 'FREE_REALTIME', 'openInterest': None, 'marketState': 'CLOSED', 'underlyingSymbol': None, 'marketCap': 2138914422784, 'quoteType': 'EQUITY', 'volumeAllCurrencies': None, 'postMarketSource': 'DELAYED', 'strikePrice': None, 'symbol': 'AAPL', 'postMarketChangePercent': -0.001258424, 'preMarketSource': 'FREE_REALTIME', 'maxAge': 1, 'fromCurrency': None, 'regularMarketChangePercent': -0.013730543, 'investments': 58093000000, 'changeToLiabilities': -2548000000, 'totalCashflowsFromInvestingActivities': 45896000000, 'netBorrowings': -7819000000, 'totalCashFromFinancingActivities': -90976000000, 'changeToOperatingActivities': -896000000, 'issuanceOfStock': 781000000, 'netIncome': 55256000000, 'changeInCash': 24311000000, 'repurchaseOfStock': -69714000000, 'totalCashFromOperatingActivities': 69391000000, 'depreciation': 12547000000, 'otherCashflowsFromInvestingActivities': -1078000000, 'dividendsPaid': -14119000000, 'changeToInventory': -289000000, 'changeToAccountReceivables': 245000000, 'otherCashflowsFromFinancingActivities': -105000000, 'changeToNetincome': 5076000000, 'capitalExpenditures': -10495000000, 'totalLiab': 248028000000, 'totalStockholderEquity': 90488000000, 'otherCurrentLiab': 43242000000, 'totalAssets': 338516000000, 'commonStock': 45174000000, 'otherCurrentAssets': 12352000000, 'retainedEarnings': 45898000000, 'otherLiab': 50503000000, 'treasuryStock': -584000000, 'otherAssets': 32978000000, 'cash': 48844000000, 'totalCurrentLiabilities': 105718000000, 'shortLongTermDebt': 10260000000, 'otherStockholderEquity': -584000000, 'propertyPlantEquipment': 37378000000, 'totalCurrentAssets': 162819000000, 'longTermInvestments': 105341000000, 'netTangibleAssets': 90488000000, 'shortTermInvestments': 51713000000, 'netReceivables': 45804000000, 'longTermDebt': 91807000000, 'inventory': 4106000000, 'accountsPayable': 46236000000, 'researchDevelopment': 16217000000, 'effectOfAccountingCharges': None, 'incomeBeforeTax': 65737000000, 'minorityInterest': None, 'sellingGeneralAdministrative': 18245000000, 'grossProfit': 98392000000, 'ebit': 63930000000, 'operatingIncome': 63930000000, 'otherOperatingExpenses': None, 'interestExpense': -3576000000, 'extraordinaryItems': None, 'nonRecurring': None, 'otherItems': None, 'incomeTaxExpense': 10481000000, 'totalRevenue': 260174000000, 'totalOperatingExpenses': 196244000000, 'costOfRevenue': 161782000000, 'totalOtherIncomeExpenseNet': 1807000000, 'discontinuedOperations': None, 'netIncomeFromContinuingOps': 55256000000, 'netIncomeApplicableToCommonShares': 55256000000, 'year': '2019-09-28'}\n"
     ]
    }
   ],
   "source": [
    "dict_m = market_cap[stock]\n",
    "\n",
    "dict_i = income[income_statement][stock][1]\n",
    "d_inc_bef = list(dict_i)[0]\n",
    "dict_inc = dict_i.get(d_inc_bef)\n",
    "\n",
    "dict_c = cashflow[cash_statement][stock][1]\n",
    "d_cash_bef = list(dict_c)[0]\n",
    "dict_cash = dict_c.get(d_cash_bef)\n",
    "    \n",
    "dict_b = balance[balance_statement][stock][1]\n",
    "d_bal_bef = list(dict_b)[0]\n",
    "dict_bal = dict_b.get(d_bal_bef)\n",
    "\n",
    "list_year = list(dict_i)\n",
    "yearr = ''.join(list_year)\n",
    "year = {\"year\": yearr}\n",
    "\n",
    "dictionary_1 = dict(dict_m)\n",
    "dictionary_1.update(dict_cash)\n",
    "dictionary_1.update(dict_bal)\n",
    "dictionary_1.update(dict_inc)\n",
    "dictionary_1.update(year)\n",
    "\n",
    "print(dictionary_1)"
   ]
  },
  {
   "cell_type": "code",
   "execution_count": 51,
   "metadata": {},
   "outputs": [
    {
     "name": "stdout",
     "output_type": "stream",
     "text": [
      "{'totalLiab/ebitda': 3.243171149495927, 'ebitda/interest': -14.368847874720357, 'ltDebt/totalLiab': 0.3701477252568258, 'currentLiab/totalLiab': 0.4262341348557421, 'totalLiab/marketCap': 0.11595975853824392, 'ltDebt/ebitda': 1.2004524236044825, 'ebitda/totalRevenue': 0.29394559025882677, 'opIncome/totalRevenue': 0.24572017188496928, 'netIncome/totalRevenue': 0.21238094505984456, 'payoutRatio': 0.25551976255972203, 'cashOpActivities/totalAssets': 0.20498587954483688, 'capEx/cashOpActivities': 0.15124439768846104, 'dividendYield': 0.006601012106703541, 'year': '2019-09-28', 'quoteSourceName': 'Delayed Quote', 'regularMarketOpen': 128.78, 'averageDailyVolume3Month': 108869769, 'exchange': 'NMS', 'regularMarketTime': '2021-01-15 23:00:02 UTC+0000', 'volume24Hr': None, 'regularMarketDayHigh': 130.21, 'shortName': 'Apple Inc.', 'averageDailyVolume10Day': 106561287, 'longName': 'Apple Inc.', 'regularMarketChange': -1.7700043, 'currencySymbol': '$', 'regularMarketPreviousClose': 128.91, 'postMarketTime': '2021-01-16 02:59:58 UTC+0000', 'preMarketPrice': None, 'exchangeDataDelayedBy': 0, 'toCurrency': None, 'postMarketChange': -0.15999603, 'postMarketPrice': 126.98, 'exchangeName': 'NasdaqGS', 'preMarketChange': None, 'circulatingSupply': None, 'regularMarketDayLow': 127, 'priceHint': 2, 'currency': 'USD', 'regularMarketPrice': 127.14, 'regularMarketVolume': 111598531, 'lastMarket': None, 'regularMarketSource': 'FREE_REALTIME', 'openInterest': None, 'marketState': 'CLOSED', 'underlyingSymbol': None, 'marketCap': 2138914422784, 'quoteType': 'EQUITY', 'volumeAllCurrencies': None, 'postMarketSource': 'DELAYED', 'strikePrice': None, 'symbol': 'AAPL', 'postMarketChangePercent': -0.001258424, 'preMarketSource': 'FREE_REALTIME', 'maxAge': 1, 'fromCurrency': None, 'regularMarketChangePercent': -0.013730543}\n"
     ]
    }
   ],
   "source": [
    "ratios = {\"totalLiab/ebitda\" : dictionary_1[\"totalLiab\"] / (dictionary_1[\"ebit\"] + dictionary_1[\"depreciation\"]),\n",
    "            \"ebitda/interest\" : (dictionary_1[\"ebit\"] - dictionary_1[\"depreciation\"]) / dictionary_1[\"interestExpense\"],\n",
    "            \"ltDebt/totalLiab\" : dictionary_1[\"longTermDebt\"] / dictionary_1[\"totalLiab\"],\n",
    "            \"currentLiab/totalLiab\" : dictionary_1[\"totalCurrentLiabilities\"] / dictionary_1[\"totalLiab\"],\n",
    "            \"totalLiab/marketCap\" : dictionary_1[\"totalLiab\"] / dictionary_1[\"marketCap\"],\n",
    "            \"ltDebt/ebitda\" : dictionary_1[\"longTermDebt\"] / (dictionary_1[\"ebit\"] + dictionary_1[\"depreciation\"]),\n",
    "            \"ebitda/totalRevenue\" : (dictionary_1[\"ebit\"] + dictionary_1[\"depreciation\"]) / dictionary_1[\"totalRevenue\"],\n",
    "            \"opIncome/totalRevenue\" : dictionary_1[\"operatingIncome\"] / dictionary_1[\"totalRevenue\"],\n",
    "            \"netIncome/totalRevenue\" : dictionary_1[\"netIncome\"] / dictionary_1[\"totalRevenue\"],\n",
    "            \"payoutRatio\" : - dictionary_1[\"dividendsPaid\"] / dictionary_1[\"netIncome\"],\n",
    "            \"cashOpActivities/totalAssets\" : dictionary_1[\"totalCashFromOperatingActivities\"] / dictionary_1[\"totalAssets\"],\n",
    "            \"capEx/cashOpActivities\" : - dictionary_1[\"capitalExpenditures\"] / dictionary_1[\"totalCashFromOperatingActivities\"],\n",
    "            \"dividendYield\" : - dictionary_1[\"dividendsPaid\"] / dictionary_1[\"marketCap\"],\n",
    "            \"year\": dictionary_1[\"year\"]\n",
    "            }\n",
    "\n",
    "df_ratios_1 = ratios\n",
    "df_ratios_1.update(dict_m)\n",
    "\n",
    "print(df_ratios_1)"
   ]
  },
  {
   "cell_type": "markdown",
   "metadata": {},
   "source": [
    "#### extraction for year 1"
   ]
  },
  {
   "cell_type": "code",
   "execution_count": 52,
   "metadata": {},
   "outputs": [
    {
     "name": "stdout",
     "output_type": "stream",
     "text": [
      "{'quoteSourceName': 'Delayed Quote', 'regularMarketOpen': 128.78, 'averageDailyVolume3Month': 108869769, 'exchange': 'NMS', 'regularMarketTime': '2021-01-15 23:00:02 UTC+0000', 'volume24Hr': None, 'regularMarketDayHigh': 130.21, 'shortName': 'Apple Inc.', 'averageDailyVolume10Day': 106561287, 'longName': 'Apple Inc.', 'regularMarketChange': -1.7700043, 'currencySymbol': '$', 'regularMarketPreviousClose': 128.91, 'postMarketTime': '2021-01-16 02:59:58 UTC+0000', 'preMarketPrice': None, 'exchangeDataDelayedBy': 0, 'toCurrency': None, 'postMarketChange': -0.15999603, 'postMarketPrice': 126.98, 'exchangeName': 'NasdaqGS', 'preMarketChange': None, 'circulatingSupply': None, 'regularMarketDayLow': 127, 'priceHint': 2, 'currency': 'USD', 'regularMarketPrice': 127.14, 'regularMarketVolume': 111598531, 'lastMarket': None, 'regularMarketSource': 'FREE_REALTIME', 'openInterest': None, 'marketState': 'CLOSED', 'underlyingSymbol': None, 'marketCap': 2138914422784, 'quoteType': 'EQUITY', 'volumeAllCurrencies': None, 'postMarketSource': 'DELAYED', 'strikePrice': None, 'symbol': 'AAPL', 'postMarketChangePercent': -0.001258424, 'preMarketSource': 'FREE_REALTIME', 'maxAge': 1, 'fromCurrency': None, 'regularMarketChangePercent': -0.013730543, 'investments': 5335000000, 'changeToLiabilities': -1981000000, 'totalCashflowsFromInvestingActivities': -4289000000, 'netBorrowings': 2499000000, 'totalCashFromFinancingActivities': -86820000000, 'changeToOperatingActivities': 881000000, 'issuanceOfStock': 880000000, 'netIncome': 57411000000, 'changeInCash': -10435000000, 'repurchaseOfStock': -75992000000, 'totalCashFromOperatingActivities': 80674000000, 'depreciation': 11056000000, 'otherCashflowsFromInvestingActivities': -791000000, 'dividendsPaid': -14081000000, 'changeToInventory': -127000000, 'changeToAccountReceivables': 6917000000, 'otherCashflowsFromFinancingActivities': -126000000, 'changeToNetincome': 6517000000, 'capitalExpenditures': -7309000000, 'totalLiab': 258549000000, 'totalStockholderEquity': 65339000000, 'otherCurrentLiab': 47867000000, 'totalAssets': 323888000000, 'commonStock': 50779000000, 'otherCurrentAssets': 11264000000, 'retainedEarnings': 14966000000, 'otherLiab': 46108000000, 'treasuryStock': -406000000, 'otherAssets': 33952000000, 'cash': 38016000000, 'totalCurrentLiabilities': 105392000000, 'shortLongTermDebt': 8773000000, 'otherStockholderEquity': -406000000, 'propertyPlantEquipment': 45336000000, 'totalCurrentAssets': 143713000000, 'longTermInvestments': 100887000000, 'netTangibleAssets': 65339000000, 'shortTermInvestments': 52927000000, 'netReceivables': 37445000000, 'longTermDebt': 98667000000, 'inventory': 4061000000, 'accountsPayable': 42296000000, 'researchDevelopment': 18752000000, 'effectOfAccountingCharges': None, 'incomeBeforeTax': 67091000000, 'minorityInterest': None, 'sellingGeneralAdministrative': 19916000000, 'grossProfit': 104956000000, 'ebit': 66288000000, 'operatingIncome': 66288000000, 'otherOperatingExpenses': None, 'interestExpense': -2873000000, 'extraordinaryItems': None, 'nonRecurring': None, 'otherItems': None, 'incomeTaxExpense': 9680000000, 'totalRevenue': 274515000000, 'totalOperatingExpenses': 208227000000, 'costOfRevenue': 169559000000, 'totalOtherIncomeExpenseNet': 803000000, 'discontinuedOperations': None, 'netIncomeFromContinuingOps': 57411000000, 'netIncomeApplicableToCommonShares': 57411000000, 'year': '2020-09-26'}\n"
     ]
    }
   ],
   "source": [
    "dict_m = market_cap[stock]\n",
    "\n",
    "dict_i = income[income_statement][stock][0]\n",
    "d_inc_bef = list(dict_i)[0]\n",
    "dict_inc = dict_i.get(d_inc_bef)\n",
    "\n",
    "dict_c = cashflow[cash_statement][stock][0]\n",
    "d_cash_bef = list(dict_c)[0]\n",
    "dict_cash = dict_c.get(d_cash_bef)\n",
    "    \n",
    "dict_b = balance[balance_statement][stock][0]\n",
    "d_bal_bef = list(dict_b)[0]\n",
    "dict_bal = dict_b.get(d_bal_bef)\n",
    "\n",
    "list_year = list(dict_i)\n",
    "yearr = ''.join(list_year)\n",
    "year = {\"year\": yearr}\n",
    "\n",
    "dictionary_0 = dict(dict_m)\n",
    "dictionary_0.update(dict_cash)\n",
    "dictionary_0.update(dict_bal)\n",
    "dictionary_0.update(dict_inc)\n",
    "dictionary_0.update(year)\n",
    "\n",
    "print(dictionary_0)"
   ]
  },
  {
   "cell_type": "code",
   "execution_count": 57,
   "metadata": {},
   "outputs": [
    {
     "name": "stdout",
     "output_type": "stream",
     "text": [
      "{'totalLiab/ebitda': 3.342844952420356, 'ebitda/interest': -19.224504002784546, 'ltDebt/totalLiab': 0.38161818456076024, 'currentLiab/totalLiab': 0.40762872801673955, 'totalLiab/marketCap': 0.12087860890828626, 'ltDebt/ebitda': 1.2756904220107572, 'ebitda/totalRevenue': 0.2817478097736007, 'opIncome/totalRevenue': 0.24147314354406862, 'netIncome/totalRevenue': 0.20913611278072236, 'payoutRatio': 0.24526658654264863, 'cashOpActivities/totalAssets': 0.24907992886429878, 'capEx/cashOpActivities': 0.09059920172546297, 'dividendYield': 0.006583246085026741, 'year': '2020-09-26', 'quoteSourceName': 'Delayed Quote', 'regularMarketOpen': 128.78, 'averageDailyVolume3Month': 108869769, 'exchange': 'NMS', 'regularMarketTime': '2021-01-15 23:00:02 UTC+0000', 'volume24Hr': None, 'regularMarketDayHigh': 130.21, 'shortName': 'Apple Inc.', 'averageDailyVolume10Day': 106561287, 'longName': 'Apple Inc.', 'regularMarketChange': -1.7700043, 'currencySymbol': '$', 'regularMarketPreviousClose': 128.91, 'postMarketTime': '2021-01-16 02:59:58 UTC+0000', 'preMarketPrice': None, 'exchangeDataDelayedBy': 0, 'toCurrency': None, 'postMarketChange': -0.15999603, 'postMarketPrice': 126.98, 'exchangeName': 'NasdaqGS', 'preMarketChange': None, 'circulatingSupply': None, 'regularMarketDayLow': 127, 'priceHint': 2, 'currency': 'USD', 'regularMarketPrice': 127.14, 'regularMarketVolume': 111598531, 'lastMarket': None, 'regularMarketSource': 'FREE_REALTIME', 'openInterest': None, 'marketState': 'CLOSED', 'underlyingSymbol': None, 'marketCap': 2138914422784, 'quoteType': 'EQUITY', 'volumeAllCurrencies': None, 'postMarketSource': 'DELAYED', 'strikePrice': None, 'symbol': 'AAPL', 'postMarketChangePercent': -0.001258424, 'preMarketSource': 'FREE_REALTIME', 'maxAge': 1, 'fromCurrency': None, 'regularMarketChangePercent': -0.013730543}\n"
     ]
    }
   ],
   "source": [
    "ratios = {\"totalLiab/ebitda\" : dictionary_0[\"totalLiab\"] / (dictionary_0[\"ebit\"] + dictionary_0[\"depreciation\"]),\n",
    "            \"ebitda/interest\" : (dictionary_0[\"ebit\"] - dictionary_0[\"depreciation\"]) / dictionary_0[\"interestExpense\"],\n",
    "            \"ltDebt/totalLiab\" : dictionary_0[\"longTermDebt\"] / dictionary_0[\"totalLiab\"],\n",
    "            \"currentLiab/totalLiab\" : dictionary_0[\"totalCurrentLiabilities\"] / dictionary_0[\"totalLiab\"],\n",
    "            \"totalLiab/marketCap\" : dictionary_0[\"totalLiab\"] / dictionary_0[\"marketCap\"],\n",
    "            \"ltDebt/ebitda\" : dictionary_0[\"longTermDebt\"] / (dictionary_0[\"ebit\"] + dictionary_0[\"depreciation\"]),\n",
    "            \"ebitda/totalRevenue\" : (dictionary_0[\"ebit\"] + dictionary_0[\"depreciation\"]) / dictionary_0[\"totalRevenue\"],\n",
    "            \"opIncome/totalRevenue\" : dictionary_0[\"operatingIncome\"] / dictionary_0[\"totalRevenue\"],\n",
    "            \"netIncome/totalRevenue\" : dictionary_0[\"netIncome\"] / dictionary_0[\"totalRevenue\"],\n",
    "            \"payoutRatio\" : - dictionary_0[\"dividendsPaid\"] / dictionary_0[\"netIncome\"],\n",
    "            \"cashOpActivities/totalAssets\" : dictionary_0[\"totalCashFromOperatingActivities\"] / dictionary_0[\"totalAssets\"],\n",
    "            \"capEx/cashOpActivities\" : - dictionary_0[\"capitalExpenditures\"] / dictionary_0[\"totalCashFromOperatingActivities\"],\n",
    "            \"dividendYield\" : - dictionary_0[\"dividendsPaid\"] / dictionary_0[\"marketCap\"],\n",
    "            \"year\": dictionary_0[\"year\"]\n",
    "            }\n",
    "\n",
    "df_ratios_0 = ratios\n",
    "df_ratios_0.update(dict_m)\n",
    "\n",
    "print(df_ratios_0)"
   ]
  },
  {
   "cell_type": "markdown",
   "metadata": {},
   "source": [
    "## dataframe for years"
   ]
  },
  {
   "cell_type": "code",
   "execution_count": 65,
   "metadata": {},
   "outputs": [
    {
     "data": {
      "text/html": [
       "<div>\n",
       "<style scoped>\n",
       "    .dataframe tbody tr th:only-of-type {\n",
       "        vertical-align: middle;\n",
       "    }\n",
       "\n",
       "    .dataframe tbody tr th {\n",
       "        vertical-align: top;\n",
       "    }\n",
       "\n",
       "    .dataframe thead th {\n",
       "        text-align: right;\n",
       "    }\n",
       "</style>\n",
       "<table border=\"1\" class=\"dataframe\">\n",
       "  <thead>\n",
       "    <tr style=\"text-align: right;\">\n",
       "      <th></th>\n",
       "      <th>totalLiab/ebitda</th>\n",
       "      <th>ebitda/interest</th>\n",
       "      <th>ltDebt/totalLiab</th>\n",
       "      <th>currentLiab/totalLiab</th>\n",
       "      <th>totalLiab/marketCap</th>\n",
       "      <th>ltDebt/ebitda</th>\n",
       "      <th>ebitda/totalRevenue</th>\n",
       "      <th>opIncome/totalRevenue</th>\n",
       "      <th>netIncome/totalRevenue</th>\n",
       "      <th>payoutRatio</th>\n",
       "      <th>cashOpActivities/totalAssets</th>\n",
       "      <th>capEx/cashOpActivities</th>\n",
       "    </tr>\n",
       "    <tr>\n",
       "      <th>year</th>\n",
       "      <th></th>\n",
       "      <th></th>\n",
       "      <th></th>\n",
       "      <th></th>\n",
       "      <th></th>\n",
       "      <th></th>\n",
       "      <th></th>\n",
       "      <th></th>\n",
       "      <th></th>\n",
       "      <th></th>\n",
       "      <th></th>\n",
       "      <th></th>\n",
       "    </tr>\n",
       "  </thead>\n",
       "  <tbody>\n",
       "    <tr>\n",
       "      <th>2017-09-30</th>\n",
       "      <td>3.374386</td>\n",
       "      <td>-22.034869</td>\n",
       "      <td>0.402894</td>\n",
       "      <td>0.417844</td>\n",
       "      <td>0.112801</td>\n",
       "      <td>1.359519</td>\n",
       "      <td>0.311913</td>\n",
       "      <td>0.267604</td>\n",
       "      <td>0.210924</td>\n",
       "      <td>0.264090</td>\n",
       "      <td>0.171121</td>\n",
       "      <td>0.193865</td>\n",
       "    </tr>\n",
       "    <tr>\n",
       "      <th>2018-09-29</th>\n",
       "      <td>3.161062</td>\n",
       "      <td>-18.516975</td>\n",
       "      <td>0.362502</td>\n",
       "      <td>0.448333</td>\n",
       "      <td>0.120892</td>\n",
       "      <td>1.145891</td>\n",
       "      <td>0.307991</td>\n",
       "      <td>0.266940</td>\n",
       "      <td>0.224142</td>\n",
       "      <td>0.230334</td>\n",
       "      <td>0.211727</td>\n",
       "      <td>0.171927</td>\n",
       "    </tr>\n",
       "    <tr>\n",
       "      <th>2019-09-28</th>\n",
       "      <td>3.243171</td>\n",
       "      <td>-14.368848</td>\n",
       "      <td>0.370148</td>\n",
       "      <td>0.426234</td>\n",
       "      <td>0.115960</td>\n",
       "      <td>1.200452</td>\n",
       "      <td>0.293946</td>\n",
       "      <td>0.245720</td>\n",
       "      <td>0.212381</td>\n",
       "      <td>0.255520</td>\n",
       "      <td>0.204986</td>\n",
       "      <td>0.151244</td>\n",
       "    </tr>\n",
       "    <tr>\n",
       "      <th>2020-09-26</th>\n",
       "      <td>3.342845</td>\n",
       "      <td>-19.224504</td>\n",
       "      <td>0.381618</td>\n",
       "      <td>0.407629</td>\n",
       "      <td>0.120879</td>\n",
       "      <td>1.275690</td>\n",
       "      <td>0.281748</td>\n",
       "      <td>0.241473</td>\n",
       "      <td>0.209136</td>\n",
       "      <td>0.245267</td>\n",
       "      <td>0.249080</td>\n",
       "      <td>0.090599</td>\n",
       "    </tr>\n",
       "  </tbody>\n",
       "</table>\n",
       "</div>"
      ],
      "text/plain": [
       "            totalLiab/ebitda  ebitda/interest  ltDebt/totalLiab  \\\n",
       "year                                                              \n",
       "2017-09-30          3.374386       -22.034869          0.402894   \n",
       "2018-09-29          3.161062       -18.516975          0.362502   \n",
       "2019-09-28          3.243171       -14.368848          0.370148   \n",
       "2020-09-26          3.342845       -19.224504          0.381618   \n",
       "\n",
       "            currentLiab/totalLiab  totalLiab/marketCap  ltDebt/ebitda  \\\n",
       "year                                                                    \n",
       "2017-09-30               0.417844             0.112801       1.359519   \n",
       "2018-09-29               0.448333             0.120892       1.145891   \n",
       "2019-09-28               0.426234             0.115960       1.200452   \n",
       "2020-09-26               0.407629             0.120879       1.275690   \n",
       "\n",
       "            ebitda/totalRevenue  opIncome/totalRevenue  \\\n",
       "year                                                     \n",
       "2017-09-30             0.311913               0.267604   \n",
       "2018-09-29             0.307991               0.266940   \n",
       "2019-09-28             0.293946               0.245720   \n",
       "2020-09-26             0.281748               0.241473   \n",
       "\n",
       "            netIncome/totalRevenue  payoutRatio  cashOpActivities/totalAssets  \\\n",
       "year                                                                            \n",
       "2017-09-30                0.210924     0.264090                      0.171121   \n",
       "2018-09-29                0.224142     0.230334                      0.211727   \n",
       "2019-09-28                0.212381     0.255520                      0.204986   \n",
       "2020-09-26                0.209136     0.245267                      0.249080   \n",
       "\n",
       "            capEx/cashOpActivities  \n",
       "year                                \n",
       "2017-09-30                0.193865  \n",
       "2018-09-29                0.171927  \n",
       "2019-09-28                0.151244  \n",
       "2020-09-26                0.090599  "
      ]
     },
     "execution_count": 65,
     "metadata": {},
     "output_type": "execute_result"
    }
   ],
   "source": [
    "df1 = pd.DataFrame(columns = elements)\n",
    "df1 = df1.append(df_ratios_3, ignore_index = True)\n",
    "df1 = df1.append(df_ratios_2, ignore_index = True)\n",
    "df1 = df1.append(df_ratios_1, ignore_index = True)\n",
    "df1 = df1.append(df_ratios_0, ignore_index = True)\n",
    "df1 = df1[df1.columns[0:13]]\n",
    "df1 = df1.set_index(\"year\")\n",
    "df1"
   ]
  }
 ],
 "metadata": {
  "kernelspec": {
   "display_name": "Python 3",
   "language": "python",
   "name": "python3"
  },
  "language_info": {
   "codemirror_mode": {
    "name": "ipython",
    "version": 3
   },
   "file_extension": ".py",
   "mimetype": "text/x-python",
   "name": "python",
   "nbconvert_exporter": "python",
   "pygments_lexer": "ipython3",
   "version": "3.8.3"
  }
 },
 "nbformat": 4,
 "nbformat_minor": 4
}
