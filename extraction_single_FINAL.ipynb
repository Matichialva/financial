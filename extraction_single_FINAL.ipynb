{
 "cells": [
  {
   "cell_type": "markdown",
   "metadata": {},
   "source": [
    "1. mezclar atributos de distintos statements\n",
    "2. poder armar ratios \n",
    "3. optimizar para más empresas\n",
    "4. probar extrayendo de otras librerias"
   ]
  },
  {
   "cell_type": "markdown",
   "metadata": {},
   "source": [
    "### importar librerias"
   ]
  },
  {
   "cell_type": "code",
   "execution_count": 31,
   "metadata": {},
   "outputs": [],
   "source": [
    "import pandas as pd\n",
    "from yahoofinancials import YahooFinancials"
   ]
  },
  {
   "cell_type": "markdown",
   "metadata": {},
   "source": [
    "### atributos que quiero analizar"
   ]
  },
  {
   "cell_type": "code",
   "execution_count": 50,
   "metadata": {},
   "outputs": [],
   "source": [
    "stocks = [\"AAPL\"]\n",
    "elements = [\"totalLiab/ebitda\", \"ebitda/interest\", \"ltDebt/totalLiab\", \"currentLiab/totalLiab\", \"totalLiab/marketCap\", \"ltDebt/ebitda\", \"ebitda/totalRevenue\", \"opIncome/totalRevenue\", \"netIncome/totalRevenue\", \"payoutRatio\", \"cashOpActivities/totalAssets\", \"capEx/cashOpActivities\", \"dividendYield\", \"RevenueDIF\", \"ebitDIF\", \"netIncomeDIF\", \"cashFromOpActivitiesDIF\", \"dividendsPaidDIF\", \"totalLiabDIF\"]"
   ]
  },
  {
   "cell_type": "markdown",
   "metadata": {},
   "source": [
    "### extraer la info de los statements y tenerla en un dict"
   ]
  },
  {
   "cell_type": "code",
   "execution_count": 51,
   "metadata": {},
   "outputs": [],
   "source": [
    "stock1 = YahooFinancials(stocks)"
   ]
  },
  {
   "cell_type": "markdown",
   "metadata": {},
   "source": [
    "#### request and store the statements"
   ]
  },
  {
   "cell_type": "code",
   "execution_count": 52,
   "metadata": {
    "scrolled": true
   },
   "outputs": [
    {
     "data": {
      "text/plain": [
       "{'cashflowStatementHistory': {'AAPL': [{'2020-09-26': {'investments': 5335000000,\n",
       "     'changeToLiabilities': -1981000000,\n",
       "     'totalCashflowsFromInvestingActivities': -4289000000,\n",
       "     'netBorrowings': 2499000000,\n",
       "     'totalCashFromFinancingActivities': -86820000000,\n",
       "     'changeToOperatingActivities': 881000000,\n",
       "     'issuanceOfStock': 880000000,\n",
       "     'netIncome': 57411000000,\n",
       "     'changeInCash': -10435000000,\n",
       "     'repurchaseOfStock': -75992000000,\n",
       "     'totalCashFromOperatingActivities': 80674000000,\n",
       "     'depreciation': 11056000000,\n",
       "     'otherCashflowsFromInvestingActivities': -791000000,\n",
       "     'dividendsPaid': -14081000000,\n",
       "     'changeToInventory': -127000000,\n",
       "     'changeToAccountReceivables': 6917000000,\n",
       "     'otherCashflowsFromFinancingActivities': -126000000,\n",
       "     'changeToNetincome': 6517000000,\n",
       "     'capitalExpenditures': -7309000000}},\n",
       "   {'2019-09-28': {'investments': 58093000000,\n",
       "     'changeToLiabilities': -2548000000,\n",
       "     'totalCashflowsFromInvestingActivities': 45896000000,\n",
       "     'netBorrowings': -7819000000,\n",
       "     'totalCashFromFinancingActivities': -90976000000,\n",
       "     'changeToOperatingActivities': -896000000,\n",
       "     'issuanceOfStock': 781000000,\n",
       "     'netIncome': 55256000000,\n",
       "     'changeInCash': 24311000000,\n",
       "     'repurchaseOfStock': -69714000000,\n",
       "     'totalCashFromOperatingActivities': 69391000000,\n",
       "     'depreciation': 12547000000,\n",
       "     'otherCashflowsFromInvestingActivities': -1078000000,\n",
       "     'dividendsPaid': -14119000000,\n",
       "     'changeToInventory': -289000000,\n",
       "     'changeToAccountReceivables': 245000000,\n",
       "     'otherCashflowsFromFinancingActivities': -105000000,\n",
       "     'changeToNetincome': 5076000000,\n",
       "     'capitalExpenditures': -10495000000}},\n",
       "   {'2018-09-29': {'investments': 30845000000,\n",
       "     'changeToLiabilities': 9172000000,\n",
       "     'totalCashflowsFromInvestingActivities': 16066000000,\n",
       "     'netBorrowings': 432000000,\n",
       "     'totalCashFromFinancingActivities': -87876000000,\n",
       "     'changeToOperatingActivities': 30016000000,\n",
       "     'issuanceOfStock': 669000000,\n",
       "     'netIncome': 59531000000,\n",
       "     'changeInCash': 5624000000,\n",
       "     'repurchaseOfStock': -75265000000,\n",
       "     'totalCashFromOperatingActivities': 77434000000,\n",
       "     'depreciation': 10903000000,\n",
       "     'otherCashflowsFromInvestingActivities': -745000000,\n",
       "     'dividendsPaid': -13712000000,\n",
       "     'changeToInventory': 828000000,\n",
       "     'changeToAccountReceivables': -5322000000,\n",
       "     'otherCashflowsFromFinancingActivities': -105000000,\n",
       "     'changeToNetincome': -27694000000,\n",
       "     'capitalExpenditures': -13313000000}},\n",
       "   {'2017-09-30': {'investments': -33542000000,\n",
       "     'changeToLiabilities': 8373000000,\n",
       "     'totalCashflowsFromInvestingActivities': -46446000000,\n",
       "     'netBorrowings': 29014000000,\n",
       "     'totalCashFromFinancingActivities': -17974000000,\n",
       "     'changeToOperatingActivities': -8480000000,\n",
       "     'issuanceOfStock': 555000000,\n",
       "     'netIncome': 48351000000,\n",
       "     'changeInCash': -195000000,\n",
       "     'repurchaseOfStock': -34774000000,\n",
       "     'totalCashFromOperatingActivities': 64225000000,\n",
       "     'depreciation': 10157000000,\n",
       "     'otherCashflowsFromInvestingActivities': -124000000,\n",
       "     'dividendsPaid': -12769000000,\n",
       "     'changeToInventory': -2723000000,\n",
       "     'changeToAccountReceivables': -2093000000,\n",
       "     'otherCashflowsFromFinancingActivities': -105000000,\n",
       "     'changeToNetincome': 10640000000,\n",
       "     'capitalExpenditures': -12451000000}}]}}"
      ]
     },
     "execution_count": 52,
     "metadata": {},
     "output_type": "execute_result"
    }
   ],
   "source": [
    "cashflow = stock1.get_financial_stmts(\"annual\", \"cash\")\n",
    "cashflow"
   ]
  },
  {
   "cell_type": "code",
   "execution_count": 53,
   "metadata": {
    "scrolled": true
   },
   "outputs": [
    {
     "data": {
      "text/plain": [
       "{'incomeStatementHistory': {'AAPL': [{'2020-09-26': {'researchDevelopment': 18752000000,\n",
       "     'effectOfAccountingCharges': None,\n",
       "     'incomeBeforeTax': 67091000000,\n",
       "     'minorityInterest': None,\n",
       "     'netIncome': 57411000000,\n",
       "     'sellingGeneralAdministrative': 19916000000,\n",
       "     'grossProfit': 104956000000,\n",
       "     'ebit': 66288000000,\n",
       "     'operatingIncome': 66288000000,\n",
       "     'otherOperatingExpenses': None,\n",
       "     'interestExpense': -2873000000,\n",
       "     'extraordinaryItems': None,\n",
       "     'nonRecurring': None,\n",
       "     'otherItems': None,\n",
       "     'incomeTaxExpense': 9680000000,\n",
       "     'totalRevenue': 274515000000,\n",
       "     'totalOperatingExpenses': 208227000000,\n",
       "     'costOfRevenue': 169559000000,\n",
       "     'totalOtherIncomeExpenseNet': 803000000,\n",
       "     'discontinuedOperations': None,\n",
       "     'netIncomeFromContinuingOps': 57411000000,\n",
       "     'netIncomeApplicableToCommonShares': 57411000000}},\n",
       "   {'2019-09-28': {'researchDevelopment': 16217000000,\n",
       "     'effectOfAccountingCharges': None,\n",
       "     'incomeBeforeTax': 65737000000,\n",
       "     'minorityInterest': None,\n",
       "     'netIncome': 55256000000,\n",
       "     'sellingGeneralAdministrative': 18245000000,\n",
       "     'grossProfit': 98392000000,\n",
       "     'ebit': 63930000000,\n",
       "     'operatingIncome': 63930000000,\n",
       "     'otherOperatingExpenses': None,\n",
       "     'interestExpense': -3576000000,\n",
       "     'extraordinaryItems': None,\n",
       "     'nonRecurring': None,\n",
       "     'otherItems': None,\n",
       "     'incomeTaxExpense': 10481000000,\n",
       "     'totalRevenue': 260174000000,\n",
       "     'totalOperatingExpenses': 196244000000,\n",
       "     'costOfRevenue': 161782000000,\n",
       "     'totalOtherIncomeExpenseNet': 1807000000,\n",
       "     'discontinuedOperations': None,\n",
       "     'netIncomeFromContinuingOps': 55256000000,\n",
       "     'netIncomeApplicableToCommonShares': 55256000000}},\n",
       "   {'2018-09-29': {'researchDevelopment': 14236000000,\n",
       "     'effectOfAccountingCharges': None,\n",
       "     'incomeBeforeTax': 72903000000,\n",
       "     'minorityInterest': None,\n",
       "     'netIncome': 59531000000,\n",
       "     'sellingGeneralAdministrative': 16705000000,\n",
       "     'grossProfit': 101839000000,\n",
       "     'ebit': 70898000000,\n",
       "     'operatingIncome': 70898000000,\n",
       "     'otherOperatingExpenses': None,\n",
       "     'interestExpense': -3240000000,\n",
       "     'extraordinaryItems': None,\n",
       "     'nonRecurring': None,\n",
       "     'otherItems': None,\n",
       "     'incomeTaxExpense': 13372000000,\n",
       "     'totalRevenue': 265595000000,\n",
       "     'totalOperatingExpenses': 194697000000,\n",
       "     'costOfRevenue': 163756000000,\n",
       "     'totalOtherIncomeExpenseNet': 2005000000,\n",
       "     'discontinuedOperations': None,\n",
       "     'netIncomeFromContinuingOps': 59531000000,\n",
       "     'netIncomeApplicableToCommonShares': 59531000000}},\n",
       "   {'2017-09-30': {'researchDevelopment': 11581000000,\n",
       "     'effectOfAccountingCharges': None,\n",
       "     'incomeBeforeTax': 64089000000,\n",
       "     'minorityInterest': None,\n",
       "     'netIncome': 48351000000,\n",
       "     'sellingGeneralAdministrative': 15261000000,\n",
       "     'grossProfit': 88186000000,\n",
       "     'ebit': 61344000000,\n",
       "     'operatingIncome': 61344000000,\n",
       "     'otherOperatingExpenses': None,\n",
       "     'interestExpense': -2323000000,\n",
       "     'extraordinaryItems': None,\n",
       "     'nonRecurring': None,\n",
       "     'otherItems': None,\n",
       "     'incomeTaxExpense': 15738000000,\n",
       "     'totalRevenue': 229234000000,\n",
       "     'totalOperatingExpenses': 167890000000,\n",
       "     'costOfRevenue': 141048000000,\n",
       "     'totalOtherIncomeExpenseNet': 2745000000,\n",
       "     'discontinuedOperations': None,\n",
       "     'netIncomeFromContinuingOps': 48351000000,\n",
       "     'netIncomeApplicableToCommonShares': 48351000000}}]}}"
      ]
     },
     "execution_count": 53,
     "metadata": {},
     "output_type": "execute_result"
    }
   ],
   "source": [
    "income = stock1.get_financial_stmts(\"annual\", \"income\")\n",
    "income"
   ]
  },
  {
   "cell_type": "code",
   "execution_count": 54,
   "metadata": {
    "scrolled": true
   },
   "outputs": [
    {
     "data": {
      "text/plain": [
       "{'balanceSheetHistory': {'AAPL': [{'2020-09-26': {'totalLiab': 258549000000,\n",
       "     'totalStockholderEquity': 65339000000,\n",
       "     'otherCurrentLiab': 47867000000,\n",
       "     'totalAssets': 323888000000,\n",
       "     'commonStock': 50779000000,\n",
       "     'otherCurrentAssets': 11264000000,\n",
       "     'retainedEarnings': 14966000000,\n",
       "     'otherLiab': 46108000000,\n",
       "     'treasuryStock': -406000000,\n",
       "     'otherAssets': 33952000000,\n",
       "     'cash': 38016000000,\n",
       "     'totalCurrentLiabilities': 105392000000,\n",
       "     'shortLongTermDebt': 8773000000,\n",
       "     'otherStockholderEquity': -406000000,\n",
       "     'propertyPlantEquipment': 45336000000,\n",
       "     'totalCurrentAssets': 143713000000,\n",
       "     'longTermInvestments': 100887000000,\n",
       "     'netTangibleAssets': 65339000000,\n",
       "     'shortTermInvestments': 52927000000,\n",
       "     'netReceivables': 37445000000,\n",
       "     'longTermDebt': 98667000000,\n",
       "     'inventory': 4061000000,\n",
       "     'accountsPayable': 42296000000}},\n",
       "   {'2019-09-28': {'totalLiab': 248028000000,\n",
       "     'totalStockholderEquity': 90488000000,\n",
       "     'otherCurrentLiab': 43242000000,\n",
       "     'totalAssets': 338516000000,\n",
       "     'commonStock': 45174000000,\n",
       "     'otherCurrentAssets': 12352000000,\n",
       "     'retainedEarnings': 45898000000,\n",
       "     'otherLiab': 50503000000,\n",
       "     'treasuryStock': -584000000,\n",
       "     'otherAssets': 32978000000,\n",
       "     'cash': 48844000000,\n",
       "     'totalCurrentLiabilities': 105718000000,\n",
       "     'shortLongTermDebt': 10260000000,\n",
       "     'otherStockholderEquity': -584000000,\n",
       "     'propertyPlantEquipment': 37378000000,\n",
       "     'totalCurrentAssets': 162819000000,\n",
       "     'longTermInvestments': 105341000000,\n",
       "     'netTangibleAssets': 90488000000,\n",
       "     'shortTermInvestments': 51713000000,\n",
       "     'netReceivables': 45804000000,\n",
       "     'longTermDebt': 91807000000,\n",
       "     'inventory': 4106000000,\n",
       "     'accountsPayable': 46236000000}},\n",
       "   {'2018-09-29': {'totalLiab': 258578000000,\n",
       "     'totalStockholderEquity': 107147000000,\n",
       "     'otherCurrentLiab': 39293000000,\n",
       "     'totalAssets': 365725000000,\n",
       "     'commonStock': 40201000000,\n",
       "     'otherCurrentAssets': 12087000000,\n",
       "     'retainedEarnings': 70400000000,\n",
       "     'otherLiab': 48914000000,\n",
       "     'treasuryStock': -3454000000,\n",
       "     'otherAssets': 22283000000,\n",
       "     'cash': 25913000000,\n",
       "     'totalCurrentLiabilities': 115929000000,\n",
       "     'shortLongTermDebt': 8784000000,\n",
       "     'otherStockholderEquity': -3454000000,\n",
       "     'propertyPlantEquipment': 41304000000,\n",
       "     'totalCurrentAssets': 131339000000,\n",
       "     'longTermInvestments': 170799000000,\n",
       "     'netTangibleAssets': 107147000000,\n",
       "     'shortTermInvestments': 40388000000,\n",
       "     'netReceivables': 48995000000,\n",
       "     'longTermDebt': 93735000000,\n",
       "     'inventory': 3956000000,\n",
       "     'accountsPayable': 55888000000}},\n",
       "   {'2017-09-30': {'totalLiab': 241272000000,\n",
       "     'totalStockholderEquity': 134047000000,\n",
       "     'otherCurrentLiab': 38099000000,\n",
       "     'totalAssets': 375319000000,\n",
       "     'commonStock': 35867000000,\n",
       "     'otherCurrentAssets': 13936000000,\n",
       "     'retainedEarnings': 98330000000,\n",
       "     'otherLiab': 43251000000,\n",
       "     'treasuryStock': -150000000,\n",
       "     'otherAssets': 18177000000,\n",
       "     'cash': 20289000000,\n",
       "     'totalCurrentLiabilities': 100814000000,\n",
       "     'shortLongTermDebt': 6496000000,\n",
       "     'otherStockholderEquity': -150000000,\n",
       "     'propertyPlantEquipment': 33783000000,\n",
       "     'totalCurrentAssets': 128645000000,\n",
       "     'longTermInvestments': 194714000000,\n",
       "     'netTangibleAssets': 134047000000,\n",
       "     'shortTermInvestments': 53892000000,\n",
       "     'netReceivables': 35673000000,\n",
       "     'longTermDebt': 97207000000,\n",
       "     'inventory': 4855000000,\n",
       "     'accountsPayable': 44242000000}}]}}"
      ]
     },
     "execution_count": 54,
     "metadata": {},
     "output_type": "execute_result"
    }
   ],
   "source": [
    "balance = stock1.get_financial_stmts(\"annual\", \"balance\")\n",
    "balance"
   ]
  },
  {
   "cell_type": "code",
   "execution_count": 55,
   "metadata": {
    "scrolled": true
   },
   "outputs": [
    {
     "data": {
      "text/plain": [
       "{'AAPL': {'quoteSourceName': 'Nasdaq Real Time Price',\n",
       "  'regularMarketOpen': 135.58,\n",
       "  'averageDailyVolume3Month': 115680766,\n",
       "  'exchange': 'NMS',\n",
       "  'regularMarketTime': '2020-12-30 23:00:02 UTC+0000',\n",
       "  'volume24Hr': None,\n",
       "  'regularMarketDayHigh': 135.99,\n",
       "  'shortName': 'Apple Inc.',\n",
       "  'averageDailyVolume10Day': 113095766,\n",
       "  'longName': 'Apple Inc.',\n",
       "  'regularMarketChange': -1.1499939,\n",
       "  'currencySymbol': '$',\n",
       "  'regularMarketPreviousClose': 134.87,\n",
       "  'postMarketTime': '2020-12-31 00:37:18 UTC+0000',\n",
       "  'preMarketPrice': 135.54,\n",
       "  'preMarketTime': '2020-12-30 16:29:59 UTC+0000',\n",
       "  'exchangeDataDelayedBy': 0,\n",
       "  'toCurrency': None,\n",
       "  'postMarketChange': -0.08999634,\n",
       "  'postMarketPrice': 133.63,\n",
       "  'exchangeName': 'NasdaqGS',\n",
       "  'preMarketChange': 0.669998,\n",
       "  'circulatingSupply': None,\n",
       "  'regularMarketDayLow': 133.4,\n",
       "  'priceHint': 2,\n",
       "  'currency': 'USD',\n",
       "  'regularMarketPrice': 133.72,\n",
       "  'regularMarketVolume': 92882124,\n",
       "  'lastMarket': None,\n",
       "  'regularMarketSource': 'FREE_REALTIME',\n",
       "  'openInterest': None,\n",
       "  'marketState': 'POST',\n",
       "  'underlyingSymbol': None,\n",
       "  'marketCap': 2273480802304,\n",
       "  'quoteType': 'EQUITY',\n",
       "  'preMarketChangePercent': 0.00496773,\n",
       "  'volumeAllCurrencies': None,\n",
       "  'postMarketSource': 'FREE_REALTIME',\n",
       "  'strikePrice': None,\n",
       "  'symbol': 'AAPL',\n",
       "  'postMarketChangePercent': -0.0006730208,\n",
       "  'preMarketSource': 'FREE_REALTIME',\n",
       "  'maxAge': 1,\n",
       "  'fromCurrency': None,\n",
       "  'regularMarketChangePercent': -0.008526685}}"
      ]
     },
     "execution_count": 55,
     "metadata": {},
     "output_type": "execute_result"
    }
   ],
   "source": [
    "market_cap = stock1.get_stock_price_data()\n",
    "market_cap"
   ]
  },
  {
   "cell_type": "markdown",
   "metadata": {},
   "source": [
    "##### optimize the request"
   ]
  },
  {
   "cell_type": "code",
   "execution_count": 56,
   "metadata": {},
   "outputs": [
    {
     "data": {
      "text/plain": [
       "'cashflowStatementHistory'"
      ]
     },
     "execution_count": 56,
     "metadata": {},
     "output_type": "execute_result"
    }
   ],
   "source": [
    "cash_statement = list(cashflow.keys())[0]\n",
    "cash_statement"
   ]
  },
  {
   "cell_type": "code",
   "execution_count": 57,
   "metadata": {},
   "outputs": [
    {
     "data": {
      "text/plain": [
       "'incomeStatementHistory'"
      ]
     },
     "execution_count": 57,
     "metadata": {},
     "output_type": "execute_result"
    }
   ],
   "source": [
    "income_statement = list(income.keys())[0]\n",
    "income_statement"
   ]
  },
  {
   "cell_type": "code",
   "execution_count": 58,
   "metadata": {
    "scrolled": true
   },
   "outputs": [
    {
     "data": {
      "text/plain": [
       "'balanceSheetHistory'"
      ]
     },
     "execution_count": 58,
     "metadata": {},
     "output_type": "execute_result"
    }
   ],
   "source": [
    "balance_statement = list(balance.keys())[0]\n",
    "balance_statement"
   ]
  },
  {
   "cell_type": "markdown",
   "metadata": {},
   "source": [
    "#### store values from statements in a unique dictionary"
   ]
  },
  {
   "cell_type": "markdown",
   "metadata": {},
   "source": [
    "for stock in stocks:\n",
    "    dictionary_c = cashflow[cash_statement][stock][0]\n",
    "    dictionary_c = dictionary_c.values()\n",
    "    print(dictionary_c)"
   ]
  },
  {
   "cell_type": "markdown",
   "metadata": {},
   "source": [
    "total revenues\n",
    "ebitda\n",
    "net income\n",
    "cash from operating activities\n",
    "free cashflow X\n",
    "dividends paid\n",
    "total liabilities\n",
    "long term liabilities X"
   ]
  },
  {
   "cell_type": "code",
   "execution_count": 59,
   "metadata": {},
   "outputs": [
    {
     "name": "stdout",
     "output_type": "stream",
     "text": [
      "2017-09-30\n"
     ]
    }
   ],
   "source": [
    "for stock in stocks:\n",
    "    dict_i = income[income_statement][stock][-1]\n",
    "    d_inc_bef = list(dict_i)[0]\n",
    "    print(d_inc_bef)"
   ]
  },
  {
   "cell_type": "code",
   "execution_count": null,
   "metadata": {},
   "outputs": [],
   "source": []
  },
  {
   "cell_type": "code",
   "execution_count": 60,
   "metadata": {
    "scrolled": true
   },
   "outputs": [
    {
     "name": "stdout",
     "output_type": "stream",
     "text": [
      "{'researchDevelopment': 11581000000, 'effectOfAccountingCharges': None, 'incomeBeforeTax': 64089000000, 'minorityInterest': None, 'netIncome': 48351000000, 'sellingGeneralAdministrative': 15261000000, 'grossProfit': 88186000000, 'ebit': 61344000000, 'operatingIncome': 61344000000, 'otherOperatingExpenses': None, 'interestExpense': -2323000000, 'extraordinaryItems': None, 'nonRecurring': None, 'otherItems': None, 'incomeTaxExpense': 15738000000, 'totalRevenue': 229234000000, 'totalOperatingExpenses': 167890000000, 'costOfRevenue': 141048000000, 'totalOtherIncomeExpenseNet': 2745000000, 'discontinuedOperations': None, 'netIncomeFromContinuingOps': 48351000000, 'netIncomeApplicableToCommonShares': 48351000000, 'investments': -33542000000, 'changeToLiabilities': 8373000000, 'totalCashflowsFromInvestingActivities': -46446000000, 'netBorrowings': 29014000000, 'totalCashFromFinancingActivities': -17974000000, 'changeToOperatingActivities': -8480000000, 'issuanceOfStock': 555000000, 'changeInCash': -195000000, 'repurchaseOfStock': -34774000000, 'totalCashFromOperatingActivities': 64225000000, 'depreciation': 10157000000, 'otherCashflowsFromInvestingActivities': -124000000, 'dividendsPaid': -12769000000, 'changeToInventory': -2723000000, 'changeToAccountReceivables': -2093000000, 'otherCashflowsFromFinancingActivities': -105000000, 'changeToNetincome': 10640000000, 'capitalExpenditures': -12451000000, 'totalLiab': 241272000000, 'totalStockholderEquity': 134047000000, 'otherCurrentLiab': 38099000000, 'totalAssets': 375319000000, 'commonStock': 35867000000, 'otherCurrentAssets': 13936000000, 'retainedEarnings': 98330000000, 'otherLiab': 43251000000, 'treasuryStock': -150000000, 'otherAssets': 18177000000, 'cash': 20289000000, 'totalCurrentLiabilities': 100814000000, 'shortLongTermDebt': 6496000000, 'otherStockholderEquity': -150000000, 'propertyPlantEquipment': 33783000000, 'totalCurrentAssets': 128645000000, 'longTermInvestments': 194714000000, 'netTangibleAssets': 134047000000, 'shortTermInvestments': 53892000000, 'netReceivables': 35673000000, 'longTermDebt': 97207000000, 'inventory': 4855000000, 'accountsPayable': 44242000000}\n"
     ]
    }
   ],
   "source": [
    "for stock in stocks:\n",
    "    dict_i = income[income_statement][stock][-1]\n",
    "    d_inc_bef = list(dict_i)[0]\n",
    "    dict_inc = dict_i.get(d_inc_bef)\n",
    "    \n",
    "    dict_c = cashflow[cash_statement][stock][-1]\n",
    "    d_cash_bef = list(dict_c)[0]\n",
    "    dict_cash = dict_c.get(d_cash_bef)\n",
    "    \n",
    "    dict_b = balance[balance_statement][stock][-1]\n",
    "    d_bal_bef = list(dict_b)[0]\n",
    "    dict_bal = dict_b.get(d_bal_bef)\n",
    "    \n",
    "    dictionary_before = dict(dict_inc)\n",
    "    dictionary_before.update(dict_cash)\n",
    "    dictionary_before.update(dict_bal)\n",
    "    print(dictionary_before)"
   ]
  },
  {
   "cell_type": "code",
   "execution_count": 61,
   "metadata": {
    "scrolled": false
   },
   "outputs": [
    {
     "name": "stdout",
     "output_type": "stream",
     "text": [
      "{'investments': 5335000000, 'changeToLiabilities': -1981000000, 'totalCashflowsFromInvestingActivities': -4289000000, 'netBorrowings': 2499000000, 'totalCashFromFinancingActivities': -86820000000, 'changeToOperatingActivities': 881000000, 'issuanceOfStock': 880000000, 'netIncome': 57411000000, 'changeInCash': -10435000000, 'repurchaseOfStock': -75992000000, 'totalCashFromOperatingActivities': 80674000000, 'depreciation': 11056000000, 'otherCashflowsFromInvestingActivities': -791000000, 'dividendsPaid': -14081000000, 'changeToInventory': -127000000, 'changeToAccountReceivables': 6917000000, 'otherCashflowsFromFinancingActivities': -126000000, 'changeToNetincome': 6517000000, 'capitalExpenditures': -7309000000, 'researchDevelopment': 18752000000, 'effectOfAccountingCharges': None, 'incomeBeforeTax': 67091000000, 'minorityInterest': None, 'sellingGeneralAdministrative': 19916000000, 'grossProfit': 104956000000, 'ebit': 66288000000, 'operatingIncome': 66288000000, 'otherOperatingExpenses': None, 'interestExpense': -2873000000, 'extraordinaryItems': None, 'nonRecurring': None, 'otherItems': None, 'incomeTaxExpense': 9680000000, 'totalRevenue': 274515000000, 'totalOperatingExpenses': 208227000000, 'costOfRevenue': 169559000000, 'totalOtherIncomeExpenseNet': 803000000, 'discontinuedOperations': None, 'netIncomeFromContinuingOps': 57411000000, 'netIncomeApplicableToCommonShares': 57411000000, 'totalLiab': 258549000000, 'totalStockholderEquity': 65339000000, 'otherCurrentLiab': 47867000000, 'totalAssets': 323888000000, 'commonStock': 50779000000, 'otherCurrentAssets': 11264000000, 'retainedEarnings': 14966000000, 'otherLiab': 46108000000, 'treasuryStock': -406000000, 'otherAssets': 33952000000, 'cash': 38016000000, 'totalCurrentLiabilities': 105392000000, 'shortLongTermDebt': 8773000000, 'otherStockholderEquity': -406000000, 'propertyPlantEquipment': 45336000000, 'totalCurrentAssets': 143713000000, 'longTermInvestments': 100887000000, 'netTangibleAssets': 65339000000, 'shortTermInvestments': 52927000000, 'netReceivables': 37445000000, 'longTermDebt': 98667000000, 'inventory': 4061000000, 'accountsPayable': 42296000000, 'quoteSourceName': 'Nasdaq Real Time Price', 'regularMarketOpen': 135.58, 'averageDailyVolume3Month': 115680766, 'exchange': 'NMS', 'regularMarketTime': '2020-12-30 23:00:02 UTC+0000', 'volume24Hr': None, 'regularMarketDayHigh': 135.99, 'shortName': 'Apple Inc.', 'averageDailyVolume10Day': 113095766, 'longName': 'Apple Inc.', 'regularMarketChange': -1.1499939, 'currencySymbol': '$', 'regularMarketPreviousClose': 134.87, 'postMarketTime': '2020-12-31 00:37:18 UTC+0000', 'preMarketPrice': 135.54, 'preMarketTime': '2020-12-30 16:29:59 UTC+0000', 'exchangeDataDelayedBy': 0, 'toCurrency': None, 'postMarketChange': -0.08999634, 'postMarketPrice': 133.63, 'exchangeName': 'NasdaqGS', 'preMarketChange': 0.669998, 'circulatingSupply': None, 'regularMarketDayLow': 133.4, 'priceHint': 2, 'currency': 'USD', 'regularMarketPrice': 133.72, 'regularMarketVolume': 92882124, 'lastMarket': None, 'regularMarketSource': 'FREE_REALTIME', 'openInterest': None, 'marketState': 'POST', 'underlyingSymbol': None, 'marketCap': 2273480802304, 'quoteType': 'EQUITY', 'preMarketChangePercent': 0.00496773, 'volumeAllCurrencies': None, 'postMarketSource': 'FREE_REALTIME', 'strikePrice': None, 'symbol': 'AAPL', 'postMarketChangePercent': -0.0006730208, 'preMarketSource': 'FREE_REALTIME', 'maxAge': 1, 'fromCurrency': None, 'regularMarketChangePercent': -0.008526685}\n"
     ]
    }
   ],
   "source": [
    "for stock in stocks:\n",
    "    dictionary_c = cashflow[cash_statement][stock][0]\n",
    "    d_cash_tot = list(dictionary_c)[0]\n",
    "    \n",
    "    dictionary_i = income[income_statement][stock][0]\n",
    "    d_inc_tot = list(dictionary_i)[0]\n",
    "    \n",
    "    dictionary_b = balance[balance_statement][stock][0]\n",
    "    d_bal_tot = list(dictionary_b)[0]\n",
    "    \n",
    "    dictionary_m = market_cap[stock]\n",
    "#    print(dictionary_c)\n",
    "#    print(dictionary_i)\n",
    "#    print(dictionary_b)\n",
    "    d_cash = dictionary_c.get(d_cash_tot)\n",
    "    d_income = dictionary_i.get(d_inc_tot)\n",
    "    d_balance = dictionary_b.get(d_bal_tot)\n",
    "    \n",
    "    dictionary_total = dict(d_cash)\n",
    "    dictionary_total.update(d_income)\n",
    "    dictionary_total.update(d_balance)\n",
    "    dictionary_total.update(dictionary_m)\n",
    "    \n",
    "    print(dictionary_total)\n",
    "    "
   ]
  },
  {
   "cell_type": "markdown",
   "metadata": {},
   "source": [
    "#### ratios"
   ]
  },
  {
   "cell_type": "code",
   "execution_count": 62,
   "metadata": {
    "scrolled": true
   },
   "outputs": [
    {
     "data": {
      "text/plain": [
       "{'totalLiab/ebitda': 3.342844952420356,\n",
       " 'ebitda/interest': -19.224504002784546,\n",
       " 'ltDebt/totalLiab': 0.38161818456076024,\n",
       " 'currentLiab/totalLiab': 0.40762872801673955,\n",
       " 'totalLiab/marketCap': 0.11372385451329971,\n",
       " 'ltDebt/ebitda': 1.2756904220107572,\n",
       " 'ebitda/totalRevenue': 0.2817478097736007,\n",
       " 'opIncome/totalRevenue': 0.24147314354406862,\n",
       " 'netIncome/totalRevenue': 0.20913611278072236,\n",
       " 'payoutRatio': 0.24526658654264863,\n",
       " 'cashOpActivities/totalAssets': 0.24907992886429878,\n",
       " 'capEx/cashOpActivities': 0.09059920172546297,\n",
       " 'dividendYield': 0.006193586497730694,\n",
       " 'RevenueDIF': 1.1975317797534397,\n",
       " 'ebitDIF': 1.0817191367952896,\n",
       " 'netIncomeDIF': 1.1873797853198487,\n",
       " 'cashFromOpActivitiesDIF': 1.256115219929934,\n",
       " 'dividendsPaidDIF': 1.102748844858642,\n",
       " 'totalLiabDIF': 1.071607977718094}"
      ]
     },
     "execution_count": 62,
     "metadata": {},
     "output_type": "execute_result"
    }
   ],
   "source": [
    "ratios = {\"totalLiab/ebitda\" : dictionary_total[\"totalLiab\"] / (dictionary_total[\"ebit\"] + dictionary_total[\"depreciation\"]),\n",
    "         \"ebitda/interest\" : (dictionary_total[\"ebit\"] - dictionary_total[\"depreciation\"]) / dictionary_total[\"interestExpense\"],\n",
    "         \"ltDebt/totalLiab\" : dictionary_total[\"longTermDebt\"] / dictionary_total[\"totalLiab\"],\n",
    "         \"currentLiab/totalLiab\" : dictionary_total[\"totalCurrentLiabilities\"] / dictionary_total[\"totalLiab\"],\n",
    "         \"totalLiab/marketCap\" : dictionary_total[\"totalLiab\"] / dictionary_total[\"marketCap\"],\n",
    "         \"ltDebt/ebitda\" : dictionary_total[\"longTermDebt\"] / (dictionary_total[\"ebit\"] + dictionary_total[\"depreciation\"]),\n",
    "          \"ebitda/totalRevenue\" : (dictionary_total[\"ebit\"] + dictionary_total[\"depreciation\"]) / dictionary_total[\"totalRevenue\"],\n",
    "          \"opIncome/totalRevenue\" : dictionary_total[\"operatingIncome\"] / dictionary_total[\"totalRevenue\"],\n",
    "          \"netIncome/totalRevenue\" : dictionary_total[\"netIncome\"] / dictionary_total[\"totalRevenue\"],\n",
    "          \"payoutRatio\" : - dictionary_total[\"dividendsPaid\"] / dictionary_total[\"netIncome\"],\n",
    "          \"cashOpActivities/totalAssets\" : dictionary_total[\"totalCashFromOperatingActivities\"] / dictionary_total[\"totalAssets\"],\n",
    "          \"capEx/cashOpActivities\" : - dictionary_total[\"capitalExpenditures\"] / dictionary_total[\"totalCashFromOperatingActivities\"],\n",
    "          \"dividendYield\" : - dictionary_total[\"dividendsPaid\"] / dictionary_total[\"marketCap\"],\n",
    "          \"RevenueDIF\" : dictionary_total[\"totalRevenue\"] / dict_inc[\"totalRevenue\"],\n",
    "          \"ebitDIF\" : (dictionary_total[\"ebit\"] + dictionary_total[\"depreciation\"]) / (dictionary_before[\"ebit\"] + dictionary_before[\"depreciation\"]),\n",
    "          \"netIncomeDIF\" : dictionary_total[\"netIncome\"] / dictionary_before[\"netIncome\"],\n",
    "          \"cashFromOpActivitiesDIF\" : dictionary_total[\"totalCashFromOperatingActivities\"] / dictionary_before[\"totalCashFromOperatingActivities\"],\n",
    "          \"dividendsPaidDIF\" : dictionary_total[\"dividendsPaid\"] / dictionary_before[\"dividendsPaid\"],\n",
    "          \"totalLiabDIF\" : dictionary_total[\"totalLiab\"] / dictionary_before[\"totalLiab\"],\n",
    "         }\n",
    "ratios"
   ]
  },
  {
   "cell_type": "code",
   "execution_count": 63,
   "metadata": {},
   "outputs": [],
   "source": [
    "dictionary_total.update(ratios)"
   ]
  },
  {
   "cell_type": "code",
   "execution_count": 64,
   "metadata": {
    "scrolled": true
   },
   "outputs": [
    {
     "data": {
      "text/plain": [
       "{'investments': 5335000000,\n",
       " 'changeToLiabilities': -1981000000,\n",
       " 'totalCashflowsFromInvestingActivities': -4289000000,\n",
       " 'netBorrowings': 2499000000,\n",
       " 'totalCashFromFinancingActivities': -86820000000,\n",
       " 'changeToOperatingActivities': 881000000,\n",
       " 'issuanceOfStock': 880000000,\n",
       " 'netIncome': 57411000000,\n",
       " 'changeInCash': -10435000000,\n",
       " 'repurchaseOfStock': -75992000000,\n",
       " 'totalCashFromOperatingActivities': 80674000000,\n",
       " 'depreciation': 11056000000,\n",
       " 'otherCashflowsFromInvestingActivities': -791000000,\n",
       " 'dividendsPaid': -14081000000,\n",
       " 'changeToInventory': -127000000,\n",
       " 'changeToAccountReceivables': 6917000000,\n",
       " 'otherCashflowsFromFinancingActivities': -126000000,\n",
       " 'changeToNetincome': 6517000000,\n",
       " 'capitalExpenditures': -7309000000,\n",
       " 'researchDevelopment': 18752000000,\n",
       " 'effectOfAccountingCharges': None,\n",
       " 'incomeBeforeTax': 67091000000,\n",
       " 'minorityInterest': None,\n",
       " 'sellingGeneralAdministrative': 19916000000,\n",
       " 'grossProfit': 104956000000,\n",
       " 'ebit': 66288000000,\n",
       " 'operatingIncome': 66288000000,\n",
       " 'otherOperatingExpenses': None,\n",
       " 'interestExpense': -2873000000,\n",
       " 'extraordinaryItems': None,\n",
       " 'nonRecurring': None,\n",
       " 'otherItems': None,\n",
       " 'incomeTaxExpense': 9680000000,\n",
       " 'totalRevenue': 274515000000,\n",
       " 'totalOperatingExpenses': 208227000000,\n",
       " 'costOfRevenue': 169559000000,\n",
       " 'totalOtherIncomeExpenseNet': 803000000,\n",
       " 'discontinuedOperations': None,\n",
       " 'netIncomeFromContinuingOps': 57411000000,\n",
       " 'netIncomeApplicableToCommonShares': 57411000000,\n",
       " 'totalLiab': 258549000000,\n",
       " 'totalStockholderEquity': 65339000000,\n",
       " 'otherCurrentLiab': 47867000000,\n",
       " 'totalAssets': 323888000000,\n",
       " 'commonStock': 50779000000,\n",
       " 'otherCurrentAssets': 11264000000,\n",
       " 'retainedEarnings': 14966000000,\n",
       " 'otherLiab': 46108000000,\n",
       " 'treasuryStock': -406000000,\n",
       " 'otherAssets': 33952000000,\n",
       " 'cash': 38016000000,\n",
       " 'totalCurrentLiabilities': 105392000000,\n",
       " 'shortLongTermDebt': 8773000000,\n",
       " 'otherStockholderEquity': -406000000,\n",
       " 'propertyPlantEquipment': 45336000000,\n",
       " 'totalCurrentAssets': 143713000000,\n",
       " 'longTermInvestments': 100887000000,\n",
       " 'netTangibleAssets': 65339000000,\n",
       " 'shortTermInvestments': 52927000000,\n",
       " 'netReceivables': 37445000000,\n",
       " 'longTermDebt': 98667000000,\n",
       " 'inventory': 4061000000,\n",
       " 'accountsPayable': 42296000000,\n",
       " 'quoteSourceName': 'Nasdaq Real Time Price',\n",
       " 'regularMarketOpen': 135.58,\n",
       " 'averageDailyVolume3Month': 115680766,\n",
       " 'exchange': 'NMS',\n",
       " 'regularMarketTime': '2020-12-30 23:00:02 UTC+0000',\n",
       " 'volume24Hr': None,\n",
       " 'regularMarketDayHigh': 135.99,\n",
       " 'shortName': 'Apple Inc.',\n",
       " 'averageDailyVolume10Day': 113095766,\n",
       " 'longName': 'Apple Inc.',\n",
       " 'regularMarketChange': -1.1499939,\n",
       " 'currencySymbol': '$',\n",
       " 'regularMarketPreviousClose': 134.87,\n",
       " 'postMarketTime': '2020-12-31 00:37:18 UTC+0000',\n",
       " 'preMarketPrice': 135.54,\n",
       " 'preMarketTime': '2020-12-30 16:29:59 UTC+0000',\n",
       " 'exchangeDataDelayedBy': 0,\n",
       " 'toCurrency': None,\n",
       " 'postMarketChange': -0.08999634,\n",
       " 'postMarketPrice': 133.63,\n",
       " 'exchangeName': 'NasdaqGS',\n",
       " 'preMarketChange': 0.669998,\n",
       " 'circulatingSupply': None,\n",
       " 'regularMarketDayLow': 133.4,\n",
       " 'priceHint': 2,\n",
       " 'currency': 'USD',\n",
       " 'regularMarketPrice': 133.72,\n",
       " 'regularMarketVolume': 92882124,\n",
       " 'lastMarket': None,\n",
       " 'regularMarketSource': 'FREE_REALTIME',\n",
       " 'openInterest': None,\n",
       " 'marketState': 'POST',\n",
       " 'underlyingSymbol': None,\n",
       " 'marketCap': 2273480802304,\n",
       " 'quoteType': 'EQUITY',\n",
       " 'preMarketChangePercent': 0.00496773,\n",
       " 'volumeAllCurrencies': None,\n",
       " 'postMarketSource': 'FREE_REALTIME',\n",
       " 'strikePrice': None,\n",
       " 'symbol': 'AAPL',\n",
       " 'postMarketChangePercent': -0.0006730208,\n",
       " 'preMarketSource': 'FREE_REALTIME',\n",
       " 'maxAge': 1,\n",
       " 'fromCurrency': None,\n",
       " 'regularMarketChangePercent': -0.008526685,\n",
       " 'totalLiab/ebitda': 3.342844952420356,\n",
       " 'ebitda/interest': -19.224504002784546,\n",
       " 'ltDebt/totalLiab': 0.38161818456076024,\n",
       " 'currentLiab/totalLiab': 0.40762872801673955,\n",
       " 'totalLiab/marketCap': 0.11372385451329971,\n",
       " 'ltDebt/ebitda': 1.2756904220107572,\n",
       " 'ebitda/totalRevenue': 0.2817478097736007,\n",
       " 'opIncome/totalRevenue': 0.24147314354406862,\n",
       " 'netIncome/totalRevenue': 0.20913611278072236,\n",
       " 'payoutRatio': 0.24526658654264863,\n",
       " 'cashOpActivities/totalAssets': 0.24907992886429878,\n",
       " 'capEx/cashOpActivities': 0.09059920172546297,\n",
       " 'dividendYield': 0.006193586497730694,\n",
       " 'RevenueDIF': 1.1975317797534397,\n",
       " 'ebitDIF': 1.0817191367952896,\n",
       " 'netIncomeDIF': 1.1873797853198487,\n",
       " 'cashFromOpActivitiesDIF': 1.256115219929934,\n",
       " 'dividendsPaidDIF': 1.102748844858642,\n",
       " 'totalLiabDIF': 1.071607977718094}"
      ]
     },
     "execution_count": 64,
     "metadata": {},
     "output_type": "execute_result"
    }
   ],
   "source": [
    "dictionary_total"
   ]
  },
  {
   "cell_type": "markdown",
   "metadata": {},
   "source": [
    "### armar el dataframe"
   ]
  },
  {
   "cell_type": "code",
   "execution_count": 73,
   "metadata": {
    "scrolled": true
   },
   "outputs": [
    {
     "data": {
      "text/html": [
       "<div>\n",
       "<style scoped>\n",
       "    .dataframe tbody tr th:only-of-type {\n",
       "        vertical-align: middle;\n",
       "    }\n",
       "\n",
       "    .dataframe tbody tr th {\n",
       "        vertical-align: top;\n",
       "    }\n",
       "\n",
       "    .dataframe thead th {\n",
       "        text-align: right;\n",
       "    }\n",
       "</style>\n",
       "<table border=\"1\" class=\"dataframe\">\n",
       "  <thead>\n",
       "    <tr style=\"text-align: right;\">\n",
       "      <th></th>\n",
       "      <th>totalLiab/ebitda</th>\n",
       "      <th>ebitda/interest</th>\n",
       "      <th>ltDebt/totalLiab</th>\n",
       "      <th>currentLiab/totalLiab</th>\n",
       "      <th>totalLiab/marketCap</th>\n",
       "      <th>ltDebt/ebitda</th>\n",
       "      <th>ebitda/totalRevenue</th>\n",
       "      <th>opIncome/totalRevenue</th>\n",
       "      <th>netIncome/totalRevenue</th>\n",
       "      <th>payoutRatio</th>\n",
       "      <th>cashOpActivities/totalAssets</th>\n",
       "      <th>capEx/cashOpActivities</th>\n",
       "      <th>dividendYield</th>\n",
       "      <th>RevenueDIF</th>\n",
       "      <th>ebitDIF</th>\n",
       "      <th>netIncomeDIF</th>\n",
       "      <th>cashFromOpActivitiesDIF</th>\n",
       "      <th>dividendsPaidDIF</th>\n",
       "      <th>totalLiabDIF</th>\n",
       "    </tr>\n",
       "  </thead>\n",
       "  <tbody>\n",
       "    <tr>\n",
       "      <th>AAPL</th>\n",
       "      <td>3.342845</td>\n",
       "      <td>-19.224504</td>\n",
       "      <td>0.381618</td>\n",
       "      <td>0.407629</td>\n",
       "      <td>0.113724</td>\n",
       "      <td>1.27569</td>\n",
       "      <td>0.281748</td>\n",
       "      <td>0.241473</td>\n",
       "      <td>0.209136</td>\n",
       "      <td>0.245267</td>\n",
       "      <td>0.24908</td>\n",
       "      <td>0.090599</td>\n",
       "      <td>0.006194</td>\n",
       "      <td>1.197532</td>\n",
       "      <td>1.081719</td>\n",
       "      <td>1.18738</td>\n",
       "      <td>1.256115</td>\n",
       "      <td>1.102749</td>\n",
       "      <td>1.071608</td>\n",
       "    </tr>\n",
       "  </tbody>\n",
       "</table>\n",
       "</div>"
      ],
      "text/plain": [
       "      totalLiab/ebitda  ebitda/interest  ltDebt/totalLiab  \\\n",
       "AAPL          3.342845       -19.224504          0.381618   \n",
       "\n",
       "      currentLiab/totalLiab  totalLiab/marketCap  ltDebt/ebitda  \\\n",
       "AAPL               0.407629             0.113724        1.27569   \n",
       "\n",
       "      ebitda/totalRevenue  opIncome/totalRevenue  netIncome/totalRevenue  \\\n",
       "AAPL             0.281748               0.241473                0.209136   \n",
       "\n",
       "      payoutRatio  cashOpActivities/totalAssets  capEx/cashOpActivities  \\\n",
       "AAPL     0.245267                       0.24908                0.090599   \n",
       "\n",
       "      dividendYield  RevenueDIF   ebitDIF  netIncomeDIF  \\\n",
       "AAPL       0.006194    1.197532  1.081719       1.18738   \n",
       "\n",
       "      cashFromOpActivitiesDIF  dividendsPaidDIF  totalLiabDIF  \n",
       "AAPL                 1.256115          1.102749      1.071608  "
      ]
     },
     "execution_count": 73,
     "metadata": {},
     "output_type": "execute_result"
    }
   ],
   "source": [
    "df = pd.DataFrame(dictionary_total, index=stocks, columns=elements)\n",
    "df"
   ]
  },
  {
   "cell_type": "code",
   "execution_count": null,
   "metadata": {},
   "outputs": [],
   "source": []
  },
  {
   "cell_type": "code",
   "execution_count": null,
   "metadata": {},
   "outputs": [],
   "source": []
  },
  {
   "cell_type": "code",
   "execution_count": null,
   "metadata": {},
   "outputs": [],
   "source": []
  },
  {
   "cell_type": "code",
   "execution_count": 72,
   "metadata": {},
   "outputs": [
    {
     "data": {
      "text/html": [
       "<div>\n",
       "<style scoped>\n",
       "    .dataframe tbody tr th:only-of-type {\n",
       "        vertical-align: middle;\n",
       "    }\n",
       "\n",
       "    .dataframe tbody tr th {\n",
       "        vertical-align: top;\n",
       "    }\n",
       "\n",
       "    .dataframe thead th {\n",
       "        text-align: right;\n",
       "    }\n",
       "</style>\n",
       "<table border=\"1\" class=\"dataframe\">\n",
       "  <thead>\n",
       "    <tr style=\"text-align: right;\">\n",
       "      <th></th>\n",
       "      <th>totalLiab/ebitda</th>\n",
       "      <th>ebitda/interest</th>\n",
       "      <th>ltDebt/totalLiab</th>\n",
       "      <th>currentLiab/totalLiab</th>\n",
       "      <th>totalLiab/marketCap</th>\n",
       "      <th>ltDebt/ebitda</th>\n",
       "      <th>ebitda/totalRevenue</th>\n",
       "      <th>opIncome/totalRevenue</th>\n",
       "      <th>netIncome/totalRevenue</th>\n",
       "      <th>payoutRatio</th>\n",
       "      <th>cashOpActivities/totalAssets</th>\n",
       "      <th>capEx/cashOpActivities</th>\n",
       "      <th>dividendYield</th>\n",
       "      <th>RevenueDIF</th>\n",
       "      <th>ebitDIF</th>\n",
       "      <th>netIncomeDIF</th>\n",
       "      <th>cashFromOpActivitiesDIF</th>\n",
       "      <th>dividendsPaidDIF</th>\n",
       "      <th>totalLiabDIF</th>\n",
       "    </tr>\n",
       "  </thead>\n",
       "  <tbody>\n",
       "    <tr>\n",
       "      <th>AAPL</th>\n",
       "      <td>3.342845</td>\n",
       "      <td>-19.224504</td>\n",
       "      <td>0.381618</td>\n",
       "      <td>0.407629</td>\n",
       "      <td>0.113724</td>\n",
       "      <td>1.27569</td>\n",
       "      <td>0.281748</td>\n",
       "      <td>0.241473</td>\n",
       "      <td>0.209136</td>\n",
       "      <td>0.245267</td>\n",
       "      <td>0.24908</td>\n",
       "      <td>0.090599</td>\n",
       "      <td>0.006194</td>\n",
       "      <td>1.197532</td>\n",
       "      <td>1.081719</td>\n",
       "      <td>1.18738</td>\n",
       "      <td>1.256115</td>\n",
       "      <td>1.102749</td>\n",
       "      <td>1.071608</td>\n",
       "    </tr>\n",
       "  </tbody>\n",
       "</table>\n",
       "</div>"
      ],
      "text/plain": [
       "      totalLiab/ebitda  ebitda/interest  ltDebt/totalLiab  \\\n",
       "AAPL          3.342845       -19.224504          0.381618   \n",
       "\n",
       "      currentLiab/totalLiab  totalLiab/marketCap  ltDebt/ebitda  \\\n",
       "AAPL               0.407629             0.113724        1.27569   \n",
       "\n",
       "      ebitda/totalRevenue  opIncome/totalRevenue  netIncome/totalRevenue  \\\n",
       "AAPL             0.281748               0.241473                0.209136   \n",
       "\n",
       "      payoutRatio  cashOpActivities/totalAssets  capEx/cashOpActivities  \\\n",
       "AAPL     0.245267                       0.24908                0.090599   \n",
       "\n",
       "      dividendYield  RevenueDIF   ebitDIF  netIncomeDIF  \\\n",
       "AAPL       0.006194    1.197532  1.081719       1.18738   \n",
       "\n",
       "      cashFromOpActivitiesDIF  dividendsPaidDIF  totalLiabDIF  \n",
       "AAPL                 1.256115          1.102749      1.071608  "
      ]
     },
     "execution_count": 72,
     "metadata": {},
     "output_type": "execute_result"
    }
   ],
   "source": [
    "df_filtered = df.loc[(df[\"ebitda/interest\"]<20)]\n",
    "df_filtered"
   ]
  },
  {
   "cell_type": "markdown",
   "metadata": {},
   "source": [
    "\n",
    "company_ebitda_interest = df.ebitda/interest > 3\n",
    "ratio_ei = df.loc[company_ebitda_interest]\n",
    "ratio_ei"
   ]
  },
  {
   "cell_type": "code",
   "execution_count": null,
   "metadata": {},
   "outputs": [],
   "source": []
  },
  {
   "cell_type": "code",
   "execution_count": null,
   "metadata": {},
   "outputs": [],
   "source": []
  }
 ],
 "metadata": {
  "kernelspec": {
   "display_name": "Python 3",
   "language": "python",
   "name": "python3"
  },
  "language_info": {
   "codemirror_mode": {
    "name": "ipython",
    "version": 3
   },
   "file_extension": ".py",
   "mimetype": "text/x-python",
   "name": "python",
   "nbconvert_exporter": "python",
   "pygments_lexer": "ipython3",
   "version": "3.8.3"
  }
 },
 "nbformat": 4,
 "nbformat_minor": 4
}
