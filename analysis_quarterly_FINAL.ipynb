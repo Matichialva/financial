{
 "cells": [
  {
   "cell_type": "markdown",
   "metadata": {},
   "source": [
    "## import and assign"
   ]
  },
  {
   "cell_type": "code",
   "execution_count": 2,
   "metadata": {},
   "outputs": [],
   "source": [
    "import pandas as pd\n",
    "from yahoofinancials import YahooFinancials"
   ]
  },
  {
   "cell_type": "code",
   "execution_count": 21,
   "metadata": {},
   "outputs": [],
   "source": [
    "stock = \"AAPL\"\n",
    "elements = [\"quarter\",\"totalLiab/ebitda\", \"ebitda/interest\", \"ltDebt/totalLiab\", \"currentLiab/totalLiab\", \"totalLiab/marketCap\", \"ltDebt/ebitda\", \"ebitda/totalRevenue\", \"opIncome/totalRevenue\", \"netIncome/totalRevenue\", \"payoutRatio\", \"cashOpActivities/totalAssets\", \"capEx/cashOpActivities\", \"dividendYield\"]"
   ]
  },
  {
   "cell_type": "markdown",
   "metadata": {},
   "source": [
    "## Extraction"
   ]
  },
  {
   "cell_type": "code",
   "execution_count": 5,
   "metadata": {},
   "outputs": [],
   "source": [
    "stock1 = YahooFinancials(stock)\n",
    "cashflow = stock1.get_financial_stmts(\"quarterly\", \"cash\")\n",
    "income = stock1.get_financial_stmts(\"quarterly\", \"income\")\n",
    "balance = stock1.get_financial_stmts(\"quarterly\", \"balance\")\n",
    "market_cap = stock1.get_stock_price_data()"
   ]
  },
  {
   "cell_type": "code",
   "execution_count": 6,
   "metadata": {},
   "outputs": [],
   "source": [
    "cash_statement = list(cashflow.keys())[0]\n",
    "income_statement = list(income.keys())[0]\n",
    "balance_statement = list(balance.keys())[0]"
   ]
  },
  {
   "cell_type": "markdown",
   "metadata": {},
   "source": [
    "## extraction for quarters of last year"
   ]
  },
  {
   "cell_type": "markdown",
   "metadata": {},
   "source": [
    "#### extraction for quarter 4"
   ]
  },
  {
   "cell_type": "code",
   "execution_count": 9,
   "metadata": {
    "scrolled": true
   },
   "outputs": [
    {
     "name": "stdout",
     "output_type": "stream",
     "text": [
      "{'quoteSourceName': 'Delayed Quote', 'regularMarketOpen': 128.78, 'averageDailyVolume3Month': 108764543, 'exchange': 'NMS', 'regularMarketTime': '2021-01-15 23:00:02 UTC+0000', 'volume24Hr': None, 'regularMarketDayHigh': 130.21, 'shortName': 'Apple Inc.', 'averageDailyVolume10Day': 97970683, 'longName': 'Apple Inc.', 'regularMarketChange': -1.7700043, 'currencySymbol': '$', 'regularMarketPreviousClose': 128.91, 'postMarketTime': '2021-01-16 02:59:58 UTC+0000', 'preMarketPrice': None, 'exchangeDataDelayedBy': 0, 'toCurrency': None, 'postMarketChange': -0.15999603, 'postMarketPrice': 126.98, 'exchangeName': 'NasdaqGS', 'preMarketChange': None, 'circulatingSupply': None, 'regularMarketDayLow': 127, 'priceHint': 2, 'currency': 'USD', 'regularMarketPrice': 127.14, 'regularMarketVolume': 111598531, 'lastMarket': None, 'regularMarketSource': 'FREE_REALTIME', 'openInterest': None, 'marketState': 'CLOSED', 'underlyingSymbol': None, 'marketCap': 2138914422784, 'quoteType': 'EQUITY', 'volumeAllCurrencies': None, 'postMarketSource': 'DELAYED', 'strikePrice': None, 'symbol': 'AAPL', 'postMarketChangePercent': -0.001258424, 'preMarketSource': 'FREE_REALTIME', 'maxAge': 1, 'fromCurrency': None, 'regularMarketChangePercent': -0.013730543, 'investments': -10473000000, 'changeToLiabilities': -104000000, 'totalCashflowsFromInvestingActivities': -13668000000, 'netBorrowings': 231000000, 'totalCashFromFinancingActivities': -25407000000, 'changeToOperatingActivities': 2362000000, 'issuanceOfStock': 2000000, 'netIncome': 22236000000, 'changeInCash': -8559000000, 'repurchaseOfStock': -22085000000, 'totalCashFromOperatingActivities': 30516000000, 'depreciation': 2816000000, 'otherCashflowsFromInvestingActivities': -130000000, 'dividendsPaid': -3539000000, 'changeToInventory': -28000000, 'changeToAccountReceivables': 2015000000, 'otherCashflowsFromFinancingActivities': -16000000, 'changeToNetincome': 1219000000, 'capitalExpenditures': -2107000000, 'totalLiab': 251087000000, 'totalStockholderEquity': 89531000000, 'otherCurrentLiab': 40577000000, 'totalAssets': 340618000000, 'commonStock': 45972000000, 'otherCurrentAssets': 12026000000, 'retainedEarnings': 43977000000, 'otherLiab': 48648000000, 'treasuryStock': -418000000, 'otherAssets': 33195000000, 'cash': 39771000000, 'totalCurrentLiabilities': 102161000000, 'shortLongTermDebt': 10224000000, 'otherStockholderEquity': -418000000, 'propertyPlantEquipment': 44293000000, 'totalCurrentAssets': 163231000000, 'longTermInvestments': 99899000000, 'netTangibleAssets': 89531000000, 'shortTermInvestments': 67391000000, 'netReceivables': 39946000000, 'longTermDebt': 93078000000, 'inventory': 4097000000, 'accountsPayable': 45111000000, 'researchDevelopment': 4451000000, 'effectOfAccountingCharges': None, 'incomeBeforeTax': 25918000000, 'minorityInterest': None, 'sellingGeneralAdministrative': 5197000000, 'grossProfit': 35217000000, 'ebit': 25569000000, 'operatingIncome': 25569000000, 'otherOperatingExpenses': None, 'interestExpense': -785000000, 'extraordinaryItems': None, 'nonRecurring': None, 'otherItems': None, 'incomeTaxExpense': 3682000000, 'totalRevenue': 91819000000, 'totalOperatingExpenses': 66250000000, 'costOfRevenue': 56602000000, 'totalOtherIncomeExpenseNet': 349000000, 'discontinuedOperations': None, 'netIncomeFromContinuingOps': 22236000000, 'netIncomeApplicableToCommonShares': 22236000000, 'quarter': '2019-12-28'}\n"
     ]
    }
   ],
   "source": [
    "dict_m = market_cap[stock]\n",
    "\n",
    "dict_i = income[income_statement][stock][3]\n",
    "d_inc_bef = list(dict_i)[0]\n",
    "dict_inc = dict_i.get(d_inc_bef)\n",
    "\n",
    "dict_c = cashflow[cash_statement][stock][3]\n",
    "d_cash_bef = list(dict_c)[0]\n",
    "dict_cash = dict_c.get(d_cash_bef)\n",
    "    \n",
    "dict_b = balance[balance_statement][stock][3]\n",
    "d_bal_bef = list(dict_b)[0]\n",
    "dict_bal = dict_b.get(d_bal_bef)\n",
    "\n",
    "list_quarter = list(dict_i)\n",
    "quarterr = ''.join(list_quarter)\n",
    "quarter = {\"quarter\": quarterr}\n",
    "\n",
    "dictionary_3 = dict(dict_m)\n",
    "dictionary_3.update(dict_cash)\n",
    "dictionary_3.update(dict_bal)\n",
    "dictionary_3.update(dict_inc)\n",
    "dictionary_3.update(quarter)\n",
    "\n",
    "print(dictionary_3)"
   ]
  },
  {
   "cell_type": "code",
   "execution_count": 15,
   "metadata": {},
   "outputs": [
    {
     "name": "stdout",
     "output_type": "stream",
     "text": [
      "{'totalLiab/ebitda': 8.845763607539194, 'ebitda/interest': -28.98471337579618, 'ltDebt/totalLiab': 0.3707001955497497, 'currentLiab/totalLiab': 0.40687490790044883, 'totalLiab/marketCap': 0.11738992328322628, 'ltDebt/ebitda': 3.2791262991016383, 'ebitda/totalRevenue': 0.30914080963634977, 'opIncome/totalRevenue': 0.2784717759940753, 'netIncome/totalRevenue': 0.2421720994565395, 'payoutRatio': 0.1591563230796906, 'cashOpActivities/totalAssets': 0.08959009799834419, 'capEx/cashOpActivities': 0.06904574649364267, 'dividendYield': 0.0016545776503735273, 'quarter': '2019-12-28', 'quoteSourceName': 'Delayed Quote', 'regularMarketOpen': 128.78, 'averageDailyVolume3Month': 108764543, 'exchange': 'NMS', 'regularMarketTime': '2021-01-15 23:00:02 UTC+0000', 'volume24Hr': None, 'regularMarketDayHigh': 130.21, 'shortName': 'Apple Inc.', 'averageDailyVolume10Day': 97970683, 'longName': 'Apple Inc.', 'regularMarketChange': -1.7700043, 'currencySymbol': '$', 'regularMarketPreviousClose': 128.91, 'postMarketTime': '2021-01-16 02:59:58 UTC+0000', 'preMarketPrice': None, 'exchangeDataDelayedBy': 0, 'toCurrency': None, 'postMarketChange': -0.15999603, 'postMarketPrice': 126.98, 'exchangeName': 'NasdaqGS', 'preMarketChange': None, 'circulatingSupply': None, 'regularMarketDayLow': 127, 'priceHint': 2, 'currency': 'USD', 'regularMarketPrice': 127.14, 'regularMarketVolume': 111598531, 'lastMarket': None, 'regularMarketSource': 'FREE_REALTIME', 'openInterest': None, 'marketState': 'CLOSED', 'underlyingSymbol': None, 'marketCap': 2138914422784, 'quoteType': 'EQUITY', 'volumeAllCurrencies': None, 'postMarketSource': 'DELAYED', 'strikePrice': None, 'symbol': 'AAPL', 'postMarketChangePercent': -0.001258424, 'preMarketSource': 'FREE_REALTIME', 'maxAge': 1, 'fromCurrency': None, 'regularMarketChangePercent': -0.013730543}\n"
     ]
    }
   ],
   "source": [
    "ratios = {\"totalLiab/ebitda\" : dictionary_3[\"totalLiab\"] / (dictionary_3[\"ebit\"] + dictionary_3[\"depreciation\"]),\n",
    "            \"ebitda/interest\" : (dictionary_3[\"ebit\"] - dictionary_3[\"depreciation\"]) / dictionary_3[\"interestExpense\"],\n",
    "            \"ltDebt/totalLiab\" : dictionary_3[\"longTermDebt\"] / dictionary_3[\"totalLiab\"],\n",
    "            \"currentLiab/totalLiab\" : dictionary_3[\"totalCurrentLiabilities\"] / dictionary_3[\"totalLiab\"],\n",
    "            \"totalLiab/marketCap\" : dictionary_3[\"totalLiab\"] / dictionary_3[\"marketCap\"],\n",
    "            \"ltDebt/ebitda\" : dictionary_3[\"longTermDebt\"] / (dictionary_3[\"ebit\"] + dictionary_3[\"depreciation\"]),\n",
    "            \"ebitda/totalRevenue\" : (dictionary_3[\"ebit\"] + dictionary_3[\"depreciation\"]) / dictionary_3[\"totalRevenue\"],\n",
    "            \"opIncome/totalRevenue\" : dictionary_3[\"operatingIncome\"] / dictionary_3[\"totalRevenue\"],\n",
    "            \"netIncome/totalRevenue\" : dictionary_3[\"netIncome\"] / dictionary_3[\"totalRevenue\"],\n",
    "            \"payoutRatio\" : - dictionary_3[\"dividendsPaid\"] / dictionary_3[\"netIncome\"],\n",
    "            \"cashOpActivities/totalAssets\" : dictionary_3[\"totalCashFromOperatingActivities\"] / dictionary_3[\"totalAssets\"],\n",
    "            \"capEx/cashOpActivities\" : - dictionary_3[\"capitalExpenditures\"] / dictionary_3[\"totalCashFromOperatingActivities\"],\n",
    "            \"dividendYield\" : - dictionary_3[\"dividendsPaid\"] / dictionary_3[\"marketCap\"],\n",
    "            \"quarter\" : dictionary_3[\"quarter\"]\n",
    "         }\n",
    "\n",
    "df_ratios_3 = ratios\n",
    "df_ratios_3.update(dict_m)\n",
    "\n",
    "print(df_ratios_3)"
   ]
  },
  {
   "cell_type": "markdown",
   "metadata": {},
   "source": [
    "#### extraction for quarter 3"
   ]
  },
  {
   "cell_type": "code",
   "execution_count": 11,
   "metadata": {},
   "outputs": [],
   "source": [
    "dict_m = market_cap[stock]\n",
    "\n",
    "dict_i = income[income_statement][stock][2]\n",
    "d_inc_bef = list(dict_i)[0]\n",
    "dict_inc = dict_i.get(d_inc_bef)\n",
    "\n",
    "dict_c = cashflow[cash_statement][stock][2]\n",
    "d_cash_bef = list(dict_c)[0]\n",
    "dict_cash = dict_c.get(d_cash_bef)\n",
    "    \n",
    "dict_b = balance[balance_statement][stock][2]\n",
    "d_bal_bef = list(dict_b)[0]\n",
    "dict_bal = dict_b.get(d_bal_bef)\n",
    "\n",
    "list_quarter = list(dict_i)\n",
    "quarterr = ''.join(list_quarter)\n",
    "quarter = {\"quarter\": quarterr}\n",
    "\n",
    "dictionary_2 = dict(dict_m)\n",
    "dictionary_2.update(dict_cash)\n",
    "dictionary_2.update(dict_bal)\n",
    "dictionary_2.update(dict_inc)\n",
    "dictionary_2.update(quarter)\n",
    "\n",
    "#print(dictionary_3)"
   ]
  },
  {
   "cell_type": "code",
   "execution_count": 13,
   "metadata": {},
   "outputs": [
    {
     "name": "stdout",
     "output_type": "stream",
     "text": [
      "{'totalLiab/ebitda': 15.472536607199949, 'ebitda/interest': -13.298546895640687, 'ltDebt/totalLiab': 0.3681620002066329, 'currentLiab/totalLiab': 0.3971236698005992, 'totalLiab/marketCap': 0.11312981829588423, 'ltDebt/ebitda': 5.696400025577083, 'ebitda/totalRevenue': 0.2681906264469329, 'opIncome/totalRevenue': 0.22041397287054346, 'netIncome/totalRevenue': 0.1929072419529093, 'payoutRatio': 0.30002666903724773, 'cashOpActivities/totalAssets': 0.04154494382022472, 'capEx/cashOpActivities': 0.1392081736909323, 'dividendYield': 0.0015779032410315498, 'quarter': '2020-03-28', 'quoteSourceName': 'Delayed Quote', 'regularMarketOpen': 128.78, 'averageDailyVolume3Month': 108764543, 'exchange': 'NMS', 'regularMarketTime': '2021-01-15 23:00:02 UTC+0000', 'volume24Hr': None, 'regularMarketDayHigh': 130.21, 'shortName': 'Apple Inc.', 'averageDailyVolume10Day': 97970683, 'longName': 'Apple Inc.', 'regularMarketChange': -1.7700043, 'currencySymbol': '$', 'regularMarketPreviousClose': 128.91, 'postMarketTime': '2021-01-16 02:59:58 UTC+0000', 'preMarketPrice': None, 'exchangeDataDelayedBy': 0, 'toCurrency': None, 'postMarketChange': -0.15999603, 'postMarketPrice': 126.98, 'exchangeName': 'NasdaqGS', 'preMarketChange': None, 'circulatingSupply': None, 'regularMarketDayLow': 127, 'priceHint': 2, 'currency': 'USD', 'regularMarketPrice': 127.14, 'regularMarketVolume': 111598531, 'lastMarket': None, 'regularMarketSource': 'FREE_REALTIME', 'openInterest': None, 'marketState': 'CLOSED', 'underlyingSymbol': None, 'marketCap': 2138914422784, 'quoteType': 'EQUITY', 'volumeAllCurrencies': None, 'postMarketSource': 'DELAYED', 'strikePrice': None, 'symbol': 'AAPL', 'postMarketChangePercent': -0.001258424, 'preMarketSource': 'FREE_REALTIME', 'maxAge': 1, 'fromCurrency': None, 'regularMarketChangePercent': -0.013730543}\n"
     ]
    }
   ],
   "source": [
    "ratios = {\"totalLiab/ebitda\" : dictionary_2[\"totalLiab\"] / (dictionary_2[\"ebit\"] + dictionary_2[\"depreciation\"]),\n",
    "            \"ebitda/interest\" : (dictionary_2[\"ebit\"] - dictionary_2[\"depreciation\"]) / dictionary_2[\"interestExpense\"],\n",
    "            \"ltDebt/totalLiab\" : dictionary_2[\"longTermDebt\"] / dictionary_2[\"totalLiab\"],\n",
    "            \"currentLiab/totalLiab\" : dictionary_2[\"totalCurrentLiabilities\"] / dictionary_2[\"totalLiab\"],\n",
    "            \"totalLiab/marketCap\" : dictionary_2[\"totalLiab\"] / dictionary_2[\"marketCap\"],\n",
    "            \"ltDebt/ebitda\" : dictionary_2[\"longTermDebt\"] / (dictionary_2[\"ebit\"] + dictionary_2[\"depreciation\"]),\n",
    "            \"ebitda/totalRevenue\" : (dictionary_2[\"ebit\"] + dictionary_2[\"depreciation\"]) / dictionary_2[\"totalRevenue\"],\n",
    "            \"opIncome/totalRevenue\" : dictionary_2[\"operatingIncome\"] / dictionary_2[\"totalRevenue\"],\n",
    "            \"netIncome/totalRevenue\" : dictionary_2[\"netIncome\"] / dictionary_2[\"totalRevenue\"],\n",
    "            \"payoutRatio\" : - dictionary_2[\"dividendsPaid\"] / dictionary_2[\"netIncome\"],\n",
    "            \"cashOpActivities/totalAssets\" : dictionary_2[\"totalCashFromOperatingActivities\"] / dictionary_2[\"totalAssets\"],\n",
    "            \"capEx/cashOpActivities\" : - dictionary_2[\"capitalExpenditures\"] / dictionary_2[\"totalCashFromOperatingActivities\"],\n",
    "            \"dividendYield\" : - dictionary_2[\"dividendsPaid\"] / dictionary_2[\"marketCap\"],\n",
    "            \"quarter\" : dictionary_2[\"quarter\"]\n",
    "            }\n",
    "\n",
    "df_ratios_2 = ratios\n",
    "df_ratios_2.update(dict_m)\n",
    "\n",
    "print(df_ratios_2)"
   ]
  },
  {
   "cell_type": "markdown",
   "metadata": {},
   "source": [
    "#### extraction for quarter 2"
   ]
  },
  {
   "cell_type": "code",
   "execution_count": 16,
   "metadata": {},
   "outputs": [],
   "source": [
    "dict_m = market_cap[stock]\n",
    "\n",
    "dict_i = income[income_statement][stock][1]\n",
    "d_inc_bef = list(dict_i)[0]\n",
    "dict_inc = dict_i.get(d_inc_bef)\n",
    "\n",
    "dict_c = cashflow[cash_statement][stock][1]\n",
    "d_cash_bef = list(dict_c)[0]\n",
    "dict_cash = dict_c.get(d_cash_bef)\n",
    "    \n",
    "dict_b = balance[balance_statement][stock][1]\n",
    "d_bal_bef = list(dict_b)[0]\n",
    "dict_bal = dict_b.get(d_bal_bef)\n",
    "\n",
    "list_quarter = list(dict_i)\n",
    "quarterr = ''.join(list_quarter)\n",
    "quarter = {\"quarter\": quarterr}\n",
    "\n",
    "dictionary_1 = dict(dict_m)\n",
    "dictionary_1.update(dict_cash)\n",
    "dictionary_1.update(dict_bal)\n",
    "dictionary_1.update(dict_inc)\n",
    "dictionary_1.update(quarter)\n",
    "\n",
    "#print(dictionary_3)"
   ]
  },
  {
   "cell_type": "code",
   "execution_count": 17,
   "metadata": {},
   "outputs": [
    {
     "name": "stdout",
     "output_type": "stream",
     "text": [
      "{'totalLiab/ebitda': 15.46815628353216, 'ebitda/interest': -14.833572453371593, 'ltDebt/totalLiab': 0.38377226987456237, 'currentLiab/totalLiab': 0.388954631889073, 'totalLiab/marketCap': 0.11457307379368108, 'ltDebt/ebitda': 5.936249447705611, 'ebitda/totalRevenue': 0.2654435787886404, 'opIncome/totalRevenue': 0.21933484124989527, 'netIncome/totalRevenue': 0.18853983412917819, 'payoutRatio': 0.324891140140407, 'cashOpActivities/totalAssets': 0.05127243622063124, 'capEx/cashOpActivities': 0.0961833937680536, 'dividendYield': 0.0017092782960626209, 'quarter': '2020-06-27', 'quoteSourceName': 'Delayed Quote', 'regularMarketOpen': 128.78, 'averageDailyVolume3Month': 108764543, 'exchange': 'NMS', 'regularMarketTime': '2021-01-15 23:00:02 UTC+0000', 'volume24Hr': None, 'regularMarketDayHigh': 130.21, 'shortName': 'Apple Inc.', 'averageDailyVolume10Day': 97970683, 'longName': 'Apple Inc.', 'regularMarketChange': -1.7700043, 'currencySymbol': '$', 'regularMarketPreviousClose': 128.91, 'postMarketTime': '2021-01-16 02:59:58 UTC+0000', 'preMarketPrice': None, 'exchangeDataDelayedBy': 0, 'toCurrency': None, 'postMarketChange': -0.15999603, 'postMarketPrice': 126.98, 'exchangeName': 'NasdaqGS', 'preMarketChange': None, 'circulatingSupply': None, 'regularMarketDayLow': 127, 'priceHint': 2, 'currency': 'USD', 'regularMarketPrice': 127.14, 'regularMarketVolume': 111598531, 'lastMarket': None, 'regularMarketSource': 'FREE_REALTIME', 'openInterest': None, 'marketState': 'CLOSED', 'underlyingSymbol': None, 'marketCap': 2138914422784, 'quoteType': 'EQUITY', 'volumeAllCurrencies': None, 'postMarketSource': 'DELAYED', 'strikePrice': None, 'symbol': 'AAPL', 'postMarketChangePercent': -0.001258424, 'preMarketSource': 'FREE_REALTIME', 'maxAge': 1, 'fromCurrency': None, 'regularMarketChangePercent': -0.013730543}\n"
     ]
    }
   ],
   "source": [
    "ratios = {\"totalLiab/ebitda\" : dictionary_1[\"totalLiab\"] / (dictionary_1[\"ebit\"] + dictionary_1[\"depreciation\"]),\n",
    "            \"ebitda/interest\" : (dictionary_1[\"ebit\"] - dictionary_1[\"depreciation\"]) / dictionary_1[\"interestExpense\"],\n",
    "            \"ltDebt/totalLiab\" : dictionary_1[\"longTermDebt\"] / dictionary_1[\"totalLiab\"],\n",
    "            \"currentLiab/totalLiab\" : dictionary_1[\"totalCurrentLiabilities\"] / dictionary_1[\"totalLiab\"],\n",
    "            \"totalLiab/marketCap\" : dictionary_1[\"totalLiab\"] / dictionary_1[\"marketCap\"],\n",
    "            \"ltDebt/ebitda\" : dictionary_1[\"longTermDebt\"] / (dictionary_1[\"ebit\"] + dictionary_1[\"depreciation\"]),\n",
    "            \"ebitda/totalRevenue\" : (dictionary_1[\"ebit\"] + dictionary_1[\"depreciation\"]) / dictionary_1[\"totalRevenue\"],\n",
    "            \"opIncome/totalRevenue\" : dictionary_1[\"operatingIncome\"] / dictionary_1[\"totalRevenue\"],\n",
    "            \"netIncome/totalRevenue\" : dictionary_1[\"netIncome\"] / dictionary_1[\"totalRevenue\"],\n",
    "            \"payoutRatio\" : - dictionary_1[\"dividendsPaid\"] / dictionary_1[\"netIncome\"],\n",
    "            \"cashOpActivities/totalAssets\" : dictionary_1[\"totalCashFromOperatingActivities\"] / dictionary_1[\"totalAssets\"],\n",
    "            \"capEx/cashOpActivities\" : - dictionary_1[\"capitalExpenditures\"] / dictionary_1[\"totalCashFromOperatingActivities\"],\n",
    "            \"dividendYield\" : - dictionary_1[\"dividendsPaid\"] / dictionary_1[\"marketCap\"],\n",
    "            \"quarter\" : dictionary_1[\"quarter\"]\n",
    "            }\n",
    "\n",
    "df_ratios_1 = ratios\n",
    "df_ratios_1.update(dict_m)\n",
    "\n",
    "print(df_ratios_1)"
   ]
  },
  {
   "cell_type": "markdown",
   "metadata": {},
   "source": [
    "#### extraction for quarter 1"
   ]
  },
  {
   "cell_type": "code",
   "execution_count": 18,
   "metadata": {},
   "outputs": [],
   "source": [
    "dict_m = market_cap[stock]\n",
    "\n",
    "dict_i = income[income_statement][stock][0]\n",
    "d_inc_bef = list(dict_i)[0]\n",
    "dict_inc = dict_i.get(d_inc_bef)\n",
    "\n",
    "dict_c = cashflow[cash_statement][stock][0]\n",
    "d_cash_bef = list(dict_c)[0]\n",
    "dict_cash = dict_c.get(d_cash_bef)\n",
    "    \n",
    "dict_b = balance[balance_statement][stock][0]\n",
    "d_bal_bef = list(dict_b)[0]\n",
    "dict_bal = dict_b.get(d_bal_bef)\n",
    "\n",
    "list_quarter = list(dict_i)\n",
    "quarterr = ''.join(list_quarter)\n",
    "quarter = {\"quarter\": quarterr}\n",
    "\n",
    "dictionary_0 = dict(dict_m)\n",
    "dictionary_0.update(dict_cash)\n",
    "dictionary_0.update(dict_bal)\n",
    "dictionary_0.update(dict_inc)\n",
    "dictionary_0.update(quarter)\n",
    "\n",
    "#print(dictionary_3)"
   ]
  },
  {
   "cell_type": "code",
   "execution_count": 19,
   "metadata": {},
   "outputs": [
    {
     "name": "stdout",
     "output_type": "stream",
     "text": [
      "{'totalLiab/ebitda': 14.793671682783087, 'ebitda/interest': -19.042586750788644, 'ltDebt/totalLiab': 0.38161818456076024, 'currentLiab/totalLiab': 0.40762872801673955, 'totalLiab/marketCap': 0.12087860890828626, 'ltDebt/ebitda': 5.645534130571608, 'ebitda/totalRevenue': 0.27013199789792575, 'opIncome/totalRevenue': 0.2283687285542057, 'netIncome/totalRevenue': 0.19587931620761073, 'payoutRatio': 0.27704568768247456, 'cashOpActivities/totalAssets': 0.06352813318184064, 'capEx/cashOpActivities': 0.08670295489891135, 'dividendYield': 0.0016414868975590433, 'quarter': '2020-09-26', 'quoteSourceName': 'Delayed Quote', 'regularMarketOpen': 128.78, 'averageDailyVolume3Month': 108764543, 'exchange': 'NMS', 'regularMarketTime': '2021-01-15 23:00:02 UTC+0000', 'volume24Hr': None, 'regularMarketDayHigh': 130.21, 'shortName': 'Apple Inc.', 'averageDailyVolume10Day': 97970683, 'longName': 'Apple Inc.', 'regularMarketChange': -1.7700043, 'currencySymbol': '$', 'regularMarketPreviousClose': 128.91, 'postMarketTime': '2021-01-16 02:59:58 UTC+0000', 'preMarketPrice': None, 'exchangeDataDelayedBy': 0, 'toCurrency': None, 'postMarketChange': -0.15999603, 'postMarketPrice': 126.98, 'exchangeName': 'NasdaqGS', 'preMarketChange': None, 'circulatingSupply': None, 'regularMarketDayLow': 127, 'priceHint': 2, 'currency': 'USD', 'regularMarketPrice': 127.14, 'regularMarketVolume': 111598531, 'lastMarket': None, 'regularMarketSource': 'FREE_REALTIME', 'openInterest': None, 'marketState': 'CLOSED', 'underlyingSymbol': None, 'marketCap': 2138914422784, 'quoteType': 'EQUITY', 'volumeAllCurrencies': None, 'postMarketSource': 'DELAYED', 'strikePrice': None, 'symbol': 'AAPL', 'postMarketChangePercent': -0.001258424, 'preMarketSource': 'FREE_REALTIME', 'maxAge': 1, 'fromCurrency': None, 'regularMarketChangePercent': -0.013730543}\n"
     ]
    }
   ],
   "source": [
    "ratios = {\"totalLiab/ebitda\" : dictionary_0[\"totalLiab\"] / (dictionary_0[\"ebit\"] + dictionary_0[\"depreciation\"]),\n",
    "            \"ebitda/interest\" : (dictionary_0[\"ebit\"] - dictionary_0[\"depreciation\"]) / dictionary_0[\"interestExpense\"],\n",
    "            \"ltDebt/totalLiab\" : dictionary_0[\"longTermDebt\"] / dictionary_0[\"totalLiab\"],\n",
    "            \"currentLiab/totalLiab\" : dictionary_0[\"totalCurrentLiabilities\"] / dictionary_0[\"totalLiab\"],\n",
    "            \"totalLiab/marketCap\" : dictionary_0[\"totalLiab\"] / dictionary_0[\"marketCap\"],\n",
    "            \"ltDebt/ebitda\" : dictionary_0[\"longTermDebt\"] / (dictionary_0[\"ebit\"] + dictionary_0[\"depreciation\"]),\n",
    "            \"ebitda/totalRevenue\" : (dictionary_0[\"ebit\"] + dictionary_0[\"depreciation\"]) / dictionary_0[\"totalRevenue\"],\n",
    "            \"opIncome/totalRevenue\" : dictionary_0[\"operatingIncome\"] / dictionary_0[\"totalRevenue\"],\n",
    "            \"netIncome/totalRevenue\" : dictionary_0[\"netIncome\"] / dictionary_0[\"totalRevenue\"],\n",
    "            \"payoutRatio\" : - dictionary_0[\"dividendsPaid\"] / dictionary_0[\"netIncome\"],\n",
    "            \"cashOpActivities/totalAssets\" : dictionary_0[\"totalCashFromOperatingActivities\"] / dictionary_0[\"totalAssets\"],\n",
    "            \"capEx/cashOpActivities\" : - dictionary_0[\"capitalExpenditures\"] / dictionary_0[\"totalCashFromOperatingActivities\"],\n",
    "            \"dividendYield\" : - dictionary_0[\"dividendsPaid\"] / dictionary_0[\"marketCap\"],\n",
    "            \"quarter\" : dictionary_0[\"quarter\"]\n",
    "            }\n",
    "\n",
    "df_ratios_0 = ratios\n",
    "df_ratios_0.update(dict_m)\n",
    "\n",
    "print(df_ratios_0)"
   ]
  },
  {
   "cell_type": "markdown",
   "metadata": {},
   "source": [
    "## Dataframe quarterly"
   ]
  },
  {
   "cell_type": "code",
   "execution_count": 23,
   "metadata": {},
   "outputs": [
    {
     "data": {
      "text/html": [
       "<div>\n",
       "<style scoped>\n",
       "    .dataframe tbody tr th:only-of-type {\n",
       "        vertical-align: middle;\n",
       "    }\n",
       "\n",
       "    .dataframe tbody tr th {\n",
       "        vertical-align: top;\n",
       "    }\n",
       "\n",
       "    .dataframe thead th {\n",
       "        text-align: right;\n",
       "    }\n",
       "</style>\n",
       "<table border=\"1\" class=\"dataframe\">\n",
       "  <thead>\n",
       "    <tr style=\"text-align: right;\">\n",
       "      <th></th>\n",
       "      <th>totalLiab/ebitda</th>\n",
       "      <th>ebitda/interest</th>\n",
       "      <th>ltDebt/totalLiab</th>\n",
       "      <th>currentLiab/totalLiab</th>\n",
       "      <th>totalLiab/marketCap</th>\n",
       "      <th>ltDebt/ebitda</th>\n",
       "      <th>ebitda/totalRevenue</th>\n",
       "      <th>opIncome/totalRevenue</th>\n",
       "      <th>netIncome/totalRevenue</th>\n",
       "      <th>payoutRatio</th>\n",
       "      <th>cashOpActivities/totalAssets</th>\n",
       "      <th>capEx/cashOpActivities</th>\n",
       "    </tr>\n",
       "    <tr>\n",
       "      <th>quarter</th>\n",
       "      <th></th>\n",
       "      <th></th>\n",
       "      <th></th>\n",
       "      <th></th>\n",
       "      <th></th>\n",
       "      <th></th>\n",
       "      <th></th>\n",
       "      <th></th>\n",
       "      <th></th>\n",
       "      <th></th>\n",
       "      <th></th>\n",
       "      <th></th>\n",
       "    </tr>\n",
       "  </thead>\n",
       "  <tbody>\n",
       "    <tr>\n",
       "      <th>2019-12-28</th>\n",
       "      <td>8.845764</td>\n",
       "      <td>-28.984713</td>\n",
       "      <td>0.370700</td>\n",
       "      <td>0.406875</td>\n",
       "      <td>0.117390</td>\n",
       "      <td>3.279126</td>\n",
       "      <td>0.309141</td>\n",
       "      <td>0.278472</td>\n",
       "      <td>0.242172</td>\n",
       "      <td>0.159156</td>\n",
       "      <td>0.089590</td>\n",
       "      <td>0.069046</td>\n",
       "    </tr>\n",
       "    <tr>\n",
       "      <th>2020-03-28</th>\n",
       "      <td>15.472537</td>\n",
       "      <td>-13.298547</td>\n",
       "      <td>0.368162</td>\n",
       "      <td>0.397124</td>\n",
       "      <td>0.113130</td>\n",
       "      <td>5.696400</td>\n",
       "      <td>0.268191</td>\n",
       "      <td>0.220414</td>\n",
       "      <td>0.192907</td>\n",
       "      <td>0.300027</td>\n",
       "      <td>0.041545</td>\n",
       "      <td>0.139208</td>\n",
       "    </tr>\n",
       "    <tr>\n",
       "      <th>2020-06-27</th>\n",
       "      <td>15.468156</td>\n",
       "      <td>-14.833572</td>\n",
       "      <td>0.383772</td>\n",
       "      <td>0.388955</td>\n",
       "      <td>0.114573</td>\n",
       "      <td>5.936249</td>\n",
       "      <td>0.265444</td>\n",
       "      <td>0.219335</td>\n",
       "      <td>0.188540</td>\n",
       "      <td>0.324891</td>\n",
       "      <td>0.051272</td>\n",
       "      <td>0.096183</td>\n",
       "    </tr>\n",
       "    <tr>\n",
       "      <th>2020-09-26</th>\n",
       "      <td>14.793672</td>\n",
       "      <td>-19.042587</td>\n",
       "      <td>0.381618</td>\n",
       "      <td>0.407629</td>\n",
       "      <td>0.120879</td>\n",
       "      <td>5.645534</td>\n",
       "      <td>0.270132</td>\n",
       "      <td>0.228369</td>\n",
       "      <td>0.195879</td>\n",
       "      <td>0.277046</td>\n",
       "      <td>0.063528</td>\n",
       "      <td>0.086703</td>\n",
       "    </tr>\n",
       "  </tbody>\n",
       "</table>\n",
       "</div>"
      ],
      "text/plain": [
       "            totalLiab/ebitda  ebitda/interest  ltDebt/totalLiab  \\\n",
       "quarter                                                           \n",
       "2019-12-28          8.845764       -28.984713          0.370700   \n",
       "2020-03-28         15.472537       -13.298547          0.368162   \n",
       "2020-06-27         15.468156       -14.833572          0.383772   \n",
       "2020-09-26         14.793672       -19.042587          0.381618   \n",
       "\n",
       "            currentLiab/totalLiab  totalLiab/marketCap  ltDebt/ebitda  \\\n",
       "quarter                                                                 \n",
       "2019-12-28               0.406875             0.117390       3.279126   \n",
       "2020-03-28               0.397124             0.113130       5.696400   \n",
       "2020-06-27               0.388955             0.114573       5.936249   \n",
       "2020-09-26               0.407629             0.120879       5.645534   \n",
       "\n",
       "            ebitda/totalRevenue  opIncome/totalRevenue  \\\n",
       "quarter                                                  \n",
       "2019-12-28             0.309141               0.278472   \n",
       "2020-03-28             0.268191               0.220414   \n",
       "2020-06-27             0.265444               0.219335   \n",
       "2020-09-26             0.270132               0.228369   \n",
       "\n",
       "            netIncome/totalRevenue  payoutRatio  cashOpActivities/totalAssets  \\\n",
       "quarter                                                                         \n",
       "2019-12-28                0.242172     0.159156                      0.089590   \n",
       "2020-03-28                0.192907     0.300027                      0.041545   \n",
       "2020-06-27                0.188540     0.324891                      0.051272   \n",
       "2020-09-26                0.195879     0.277046                      0.063528   \n",
       "\n",
       "            capEx/cashOpActivities  \n",
       "quarter                             \n",
       "2019-12-28                0.069046  \n",
       "2020-03-28                0.139208  \n",
       "2020-06-27                0.096183  \n",
       "2020-09-26                0.086703  "
      ]
     },
     "execution_count": 23,
     "metadata": {},
     "output_type": "execute_result"
    }
   ],
   "source": [
    "df1 = pd.DataFrame(columns = elements)\n",
    "df1 = df1.append(df_ratios_3, ignore_index = True)\n",
    "df1 = df1.append(df_ratios_2, ignore_index = True)\n",
    "df1 = df1.append(df_ratios_1, ignore_index = True)\n",
    "df1 = df1.append(df_ratios_0, ignore_index = True)\n",
    "df1 = df1[df1.columns[0:13]]\n",
    "df1 = df1.set_index(\"quarter\")\n",
    "df1"
   ]
  }
 ],
 "metadata": {
  "kernelspec": {
   "display_name": "Python 3",
   "language": "python",
   "name": "python3"
  },
  "language_info": {
   "codemirror_mode": {
    "name": "ipython",
    "version": 3
   },
   "file_extension": ".py",
   "mimetype": "text/x-python",
   "name": "python",
   "nbconvert_exporter": "python",
   "pygments_lexer": "ipython3",
   "version": "3.8.3"
  }
 },
 "nbformat": 4,
 "nbformat_minor": 4
}
